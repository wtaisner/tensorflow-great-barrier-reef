{
  "metadata": {
    "kernelspec": {
      "language": "python",
      "display_name": "Python 3",
      "name": "python3"
    },
    "language_info": {
      "name": "python",
      "version": "3.7.12",
      "mimetype": "text/x-python",
      "codemirror_mode": {
        "name": "ipython",
        "version": 3
      },
      "pygments_lexer": "ipython3",
      "nbconvert_exporter": "python",
      "file_extension": ".py"
    },
    "colab": {
      "name": "competition.ipynb",
      "provenance": []
    },
    "accelerator": "GPU",
    "widgets": {
      "application/vnd.jupyter.widget-state+json": {
        "dee64e5612984a6da64e3cd0684be9cb": {
          "model_module": "@jupyter-widgets/controls",
          "model_name": "VBoxModel",
          "model_module_version": "1.5.0",
          "state": {
            "_view_name": "VBoxView",
            "_dom_classes": [],
            "_model_name": "VBoxModel",
            "_view_module": "@jupyter-widgets/controls",
            "_model_module_version": "1.5.0",
            "_view_count": null,
            "_view_module_version": "1.5.0",
            "box_style": "",
            "layout": "IPY_MODEL_86c2e5964b214305a5c94329e27db3d0",
            "_model_module": "@jupyter-widgets/controls",
            "children": [
              "IPY_MODEL_b9112099afca40dead10348a436391c7",
              "IPY_MODEL_eef2181c34ae4fe2be8e29e710f2cfb7"
            ]
          }
        },
        "86c2e5964b214305a5c94329e27db3d0": {
          "model_module": "@jupyter-widgets/base",
          "model_name": "LayoutModel",
          "model_module_version": "1.2.0",
          "state": {
            "_view_name": "LayoutView",
            "grid_template_rows": null,
            "right": null,
            "justify_content": null,
            "_view_module": "@jupyter-widgets/base",
            "overflow": null,
            "_model_module_version": "1.2.0",
            "_view_count": null,
            "flex_flow": null,
            "width": null,
            "min_width": null,
            "border": null,
            "align_items": null,
            "bottom": null,
            "_model_module": "@jupyter-widgets/base",
            "top": null,
            "grid_column": null,
            "overflow_y": null,
            "overflow_x": null,
            "grid_auto_flow": null,
            "grid_area": null,
            "grid_template_columns": null,
            "flex": null,
            "_model_name": "LayoutModel",
            "justify_items": null,
            "grid_row": null,
            "max_height": null,
            "align_content": null,
            "visibility": null,
            "align_self": null,
            "height": null,
            "min_height": null,
            "padding": null,
            "grid_auto_rows": null,
            "grid_gap": null,
            "max_width": null,
            "order": null,
            "_view_module_version": "1.2.0",
            "grid_template_areas": null,
            "object_position": null,
            "object_fit": null,
            "grid_auto_columns": null,
            "margin": null,
            "display": null,
            "left": null
          }
        },
        "b9112099afca40dead10348a436391c7": {
          "model_module": "@jupyter-widgets/controls",
          "model_name": "LabelModel",
          "model_module_version": "1.5.0",
          "state": {
            "_view_name": "LabelView",
            "style": "IPY_MODEL_38d4523369204e5b974b000af10f2757",
            "_dom_classes": [],
            "description": "",
            "_model_name": "LabelModel",
            "placeholder": "​",
            "_view_module": "@jupyter-widgets/controls",
            "_model_module_version": "1.5.0",
            "value": " 0.01MB of 0.01MB uploaded (0.00MB deduped)\r",
            "_view_count": null,
            "_view_module_version": "1.5.0",
            "description_tooltip": null,
            "_model_module": "@jupyter-widgets/controls",
            "layout": "IPY_MODEL_259249532d934f4bb542cfedf8acb87b"
          }
        },
        "eef2181c34ae4fe2be8e29e710f2cfb7": {
          "model_module": "@jupyter-widgets/controls",
          "model_name": "FloatProgressModel",
          "model_module_version": "1.5.0",
          "state": {
            "_view_name": "ProgressView",
            "style": "IPY_MODEL_ae5186ca42994328a6f2b344cd54c178",
            "_dom_classes": [],
            "description": "",
            "_model_name": "FloatProgressModel",
            "bar_style": "",
            "max": 1,
            "_view_module": "@jupyter-widgets/controls",
            "_model_module_version": "1.5.0",
            "value": 1,
            "_view_count": null,
            "_view_module_version": "1.5.0",
            "orientation": "horizontal",
            "min": 0,
            "description_tooltip": null,
            "_model_module": "@jupyter-widgets/controls",
            "layout": "IPY_MODEL_f82143fa1be146399844954c0e695e1a"
          }
        },
        "38d4523369204e5b974b000af10f2757": {
          "model_module": "@jupyter-widgets/controls",
          "model_name": "DescriptionStyleModel",
          "model_module_version": "1.5.0",
          "state": {
            "_view_name": "StyleView",
            "_model_name": "DescriptionStyleModel",
            "description_width": "",
            "_view_module": "@jupyter-widgets/base",
            "_model_module_version": "1.5.0",
            "_view_count": null,
            "_view_module_version": "1.2.0",
            "_model_module": "@jupyter-widgets/controls"
          }
        },
        "259249532d934f4bb542cfedf8acb87b": {
          "model_module": "@jupyter-widgets/base",
          "model_name": "LayoutModel",
          "model_module_version": "1.2.0",
          "state": {
            "_view_name": "LayoutView",
            "grid_template_rows": null,
            "right": null,
            "justify_content": null,
            "_view_module": "@jupyter-widgets/base",
            "overflow": null,
            "_model_module_version": "1.2.0",
            "_view_count": null,
            "flex_flow": null,
            "width": null,
            "min_width": null,
            "border": null,
            "align_items": null,
            "bottom": null,
            "_model_module": "@jupyter-widgets/base",
            "top": null,
            "grid_column": null,
            "overflow_y": null,
            "overflow_x": null,
            "grid_auto_flow": null,
            "grid_area": null,
            "grid_template_columns": null,
            "flex": null,
            "_model_name": "LayoutModel",
            "justify_items": null,
            "grid_row": null,
            "max_height": null,
            "align_content": null,
            "visibility": null,
            "align_self": null,
            "height": null,
            "min_height": null,
            "padding": null,
            "grid_auto_rows": null,
            "grid_gap": null,
            "max_width": null,
            "order": null,
            "_view_module_version": "1.2.0",
            "grid_template_areas": null,
            "object_position": null,
            "object_fit": null,
            "grid_auto_columns": null,
            "margin": null,
            "display": null,
            "left": null
          }
        },
        "ae5186ca42994328a6f2b344cd54c178": {
          "model_module": "@jupyter-widgets/controls",
          "model_name": "ProgressStyleModel",
          "model_module_version": "1.5.0",
          "state": {
            "_view_name": "StyleView",
            "_model_name": "ProgressStyleModel",
            "description_width": "",
            "_view_module": "@jupyter-widgets/base",
            "_model_module_version": "1.5.0",
            "_view_count": null,
            "_view_module_version": "1.2.0",
            "bar_color": null,
            "_model_module": "@jupyter-widgets/controls"
          }
        },
        "f82143fa1be146399844954c0e695e1a": {
          "model_module": "@jupyter-widgets/base",
          "model_name": "LayoutModel",
          "model_module_version": "1.2.0",
          "state": {
            "_view_name": "LayoutView",
            "grid_template_rows": null,
            "right": null,
            "justify_content": null,
            "_view_module": "@jupyter-widgets/base",
            "overflow": null,
            "_model_module_version": "1.2.0",
            "_view_count": null,
            "flex_flow": null,
            "width": null,
            "min_width": null,
            "border": null,
            "align_items": null,
            "bottom": null,
            "_model_module": "@jupyter-widgets/base",
            "top": null,
            "grid_column": null,
            "overflow_y": null,
            "overflow_x": null,
            "grid_auto_flow": null,
            "grid_area": null,
            "grid_template_columns": null,
            "flex": null,
            "_model_name": "LayoutModel",
            "justify_items": null,
            "grid_row": null,
            "max_height": null,
            "align_content": null,
            "visibility": null,
            "align_self": null,
            "height": null,
            "min_height": null,
            "padding": null,
            "grid_auto_rows": null,
            "grid_gap": null,
            "max_width": null,
            "order": null,
            "_view_module_version": "1.2.0",
            "grid_template_areas": null,
            "object_position": null,
            "object_fit": null,
            "grid_auto_columns": null,
            "margin": null,
            "display": null,
            "left": null
          }
        }
      }
    }
  },
  "nbformat_minor": 0,
  "nbformat": 4,
  "cells": [
    {
      "cell_type": "code",
      "source": [
        "try:\n",
        "    import wandb\n",
        "except:\n",
        "    !pip install wandb\n",
        "    import wandb\n",
        "!wandb login"
      ],
      "metadata": {
        "colab": {
          "base_uri": "https://localhost:8080/"
        },
        "id": "v_qievHg-wUI",
        "outputId": "19669d83-8989-4d92-8f24-0baf6f23d21a"
      },
      "execution_count": 1,
      "outputs": [
        {
          "output_type": "stream",
          "name": "stdout",
          "text": [
            "\u001b[34m\u001b[1mwandb\u001b[0m: Currently logged in as: \u001b[33map-wt\u001b[0m (use `wandb login --relogin` to force relogin)\n"
          ]
        }
      ]
    },
    {
      "cell_type": "code",
      "source": [
        "from google.colab import drive\n",
        "drive.mount('/content/drive')"
      ],
      "metadata": {
        "id": "V6HmwJQ_Cmzv",
        "outputId": "c084bf0a-064b-41ce-d7b6-fddb8e17edbf",
        "colab": {
          "base_uri": "https://localhost:8080/"
        }
      },
      "execution_count": 2,
      "outputs": [
        {
          "output_type": "stream",
          "name": "stdout",
          "text": [
            "Drive already mounted at /content/drive; to attempt to forcibly remount, call drive.mount(\"/content/drive\", force_remount=True).\n"
          ]
        }
      ]
    },
    {
      "cell_type": "code",
      "source": [
        "import pandas as pd\n",
        "import os\n",
        "from torch.utils.data import Dataset, DataLoader\n",
        "from torchvision.io import read_image\n",
        "from torchvision.models.detection.faster_rcnn import FastRCNNPredictor\n",
        "import torch.nn as nn\n",
        "import torchvision\n",
        "import ast\n",
        "import torch\n",
        "from tqdm import tqdm\n",
        "\n",
        "# this should probably be changed to something smart, right?\n",
        "KAGGLE_PATH_ANNOTATIONS = '/kaggle/input/tensorflow-great-barrier-reef/train.csv'\n",
        "KAGGLE_PATH_IMG_DIR = '/kaggle/input/tensorflow-great-barrier-reef/train_images/'\n",
        "LOCAL_PATH_ANNOTATIONS = 'data/train.csv'\n",
        "LOCAL_PATH_IMG_DIR = 'data/train_images/'\n",
        "COLAB_PATH_ANNOTATIONS = '/content/drive/MyDrive/data/train.csv'\n",
        "COLAB_PATH_IMG_DIR = '/content/drive/MyDrive/data/train_images/'\n",
        "\n",
        "wandb.config = {\n",
        "  \"learning_rate\": 0.001,\n",
        "  \"epochs\": 2,\n",
        "  \"batch_size\": 1,\n",
        "  \"momentum\": 0.9,\n",
        "  \"weight_decay\": 0.0005\n",
        "}"
      ],
      "metadata": {
        "_cell_guid": "b1076dfc-b9ad-4769-8c92-a6c4dae69d19",
        "_uuid": "8f2839f25d086af736a60e9eeb907d3b93b6e0e5",
        "papermill": {
          "duration": 1.961038,
          "end_time": "2022-01-14T11:54:15.753091",
          "exception": false,
          "start_time": "2022-01-14T11:54:13.792053",
          "status": "completed"
        },
        "tags": [],
        "execution": {
          "iopub.status.busy": "2022-01-15T14:23:18.334933Z",
          "iopub.execute_input": "2022-01-15T14:23:18.335249Z",
          "iopub.status.idle": "2022-01-15T14:23:19.642124Z",
          "shell.execute_reply.started": "2022-01-15T14:23:18.335161Z",
          "shell.execute_reply": "2022-01-15T14:23:19.641445Z"
        },
        "trusted": true,
        "id": "jc9q8KQLAfkX"
      },
      "execution_count": 3,
      "outputs": []
    },
    {
      "cell_type": "code",
      "source": [
        "class StarfishDataset(Dataset):\n",
        "    def __init__(self,\n",
        "                 annotations_file=COLAB_PATH_ANNOTATIONS,\n",
        "                 img_dir=COLAB_PATH_IMG_DIR\n",
        "                 ):\n",
        "        self.img_labels = pd.read_csv(annotations_file)\n",
        "        self.annotated = self.img_labels[self.img_labels['annotations'] != '[]']  # get only annotated frames\n",
        "        self.img_dir = img_dir\n",
        "\n",
        "    def __len__(self):\n",
        "        return len(self.annotated)\n",
        "\n",
        "    def __getitem__(self, idx):\n",
        "        image = read_image(os.path.join(self.img_dir, 'video_{}'.format(self.annotated.iloc[idx][0]),\n",
        "                                        '{}.jpg'.format(self.annotated.iloc[idx][2])))\n",
        "        min_image = image.min()\n",
        "        max_image = image.max()\n",
        "        # normalize image to 0-1 - required by torchvision\n",
        "        image -= min_image\n",
        "        image = torch.FloatTensor(image/max_image)\n",
        "\n",
        "        labels = self.annotated.iloc[idx][-1]\n",
        "        labels = ast.literal_eval(labels)\n",
        "        coords = []\n",
        "        for parsed_label in labels:\n",
        "            x1, y1 = parsed_label['x'], parsed_label['y']\n",
        "            x2, y2 = x1+parsed_label['width'], y1+parsed_label['height']\n",
        "            coords.append([x1, y1, x2, y2])\n",
        "            \n",
        "        target = [torch.FloatTensor(coords), torch.LongTensor([0 for _ in range(len(coords))])] # label has to be integer, since we have only one label I coded it as 1 for simplicity\n",
        "        return image, target\n",
        "\n",
        "# dataset = StarfishDataset()\n",
        "# dataset.__getitem__(0)\n"
      ],
      "metadata": {
        "pycharm": {
          "name": "#%%\n"
        },
        "jupyter": {
          "outputs_hidden": false
        },
        "execution": {
          "iopub.status.busy": "2022-01-15T14:23:19.643849Z",
          "iopub.execute_input": "2022-01-15T14:23:19.644532Z",
          "iopub.status.idle": "2022-01-15T14:23:19.856879Z",
          "shell.execute_reply.started": "2022-01-15T14:23:19.644491Z",
          "shell.execute_reply": "2022-01-15T14:23:19.856050Z"
        },
        "trusted": true,
        "id": "tg35LhdxAfkd"
      },
      "execution_count": 4,
      "outputs": []
    },
    {
      "cell_type": "code",
      "source": [
        "torch.manual_seed(1)\n",
        "\n",
        "dataset = StarfishDataset()\n",
        "train_size = int(0.1 * len(dataset))\n",
        "test_size = len(dataset) - train_size\n",
        "train_dataset, test_dataset = torch.utils.data.random_split(dataset, [train_size, test_size])\n",
        "\n",
        "# extract only small part of the data for faster learning / testing process\n",
        "train_size = int(0.8 * len(train_dataset))\n",
        "test_size = len(train_dataset) - train_size\n",
        "train_dataset, test_dataset = torch.utils.data.random_split(train_dataset, [train_size, test_size])\n",
        "\n",
        "\n",
        "print('Train dataset: {} instances, test dataset: {}'.format(len(train_dataset), len(test_dataset)))\n",
        "\n",
        "\n",
        "train_dataloader = DataLoader(\n",
        "    train_dataset, batch_size=wandb.config['batch_size'], shuffle=False, num_workers=1)\n",
        "test_dataloader = DataLoader(\n",
        "    test_dataset, batch_size=wandb.config['batch_size'], shuffle=False, num_workers=1)\n",
        "\n",
        "device = torch.device('cuda') if torch.cuda.is_available() else torch.device('cpu')\n",
        "cpu = torch.device('cpu')\n",
        "print('Used device: {}'.format(device))\n",
        "\n",
        "num_classes = 2  # starfish and not starfish I guess\n",
        "\n",
        "model = torchvision.models.detection.fasterrcnn_resnet50_fpn(pretrained=True)\n",
        "in_features = model.roi_heads.box_predictor.cls_score.in_features\n",
        "model.roi_heads.box_predictor = FastRCNNPredictor(in_features, num_classes)\n",
        "model.to(device)\n",
        "\n",
        "params = [p for p in model.parameters() if p.requires_grad]\n",
        "optimizer = torch.optim.SGD(params, lr=wandb.config['learning_rate'], momentum=wandb.config['momentum'], weight_decay=wandb.config['weight_decay'])\n",
        "lr_scheduler = torch.optim.lr_scheduler.StepLR(optimizer, step_size=3, gamma=0.1)"
      ],
      "metadata": {
        "pycharm": {
          "name": "#%%\n"
        },
        "jupyter": {
          "outputs_hidden": false
        },
        "execution": {
          "iopub.status.busy": "2022-01-15T14:25:03.794536Z",
          "iopub.execute_input": "2022-01-15T14:25:03.794811Z",
          "iopub.status.idle": "2022-01-15T14:25:04.483121Z",
          "shell.execute_reply.started": "2022-01-15T14:25:03.794780Z",
          "shell.execute_reply": "2022-01-15T14:25:04.482306Z"
        },
        "trusted": true,
        "id": "wkGu_Sh6Afkh",
        "outputId": "b0854a9d-0a53-4e57-df62-8202d5e3b38a",
        "colab": {
          "base_uri": "https://localhost:8080/"
        }
      },
      "execution_count": 5,
      "outputs": [
        {
          "output_type": "stream",
          "name": "stdout",
          "text": [
            "Train dataset: 392 instances, test dataset: 99\n",
            "Used device: cuda\n"
          ]
        }
      ]
    },
    {
      "cell_type": "code",
      "source": [
        "# TODO: finish eval loop\n",
        "# https://pytorch.org/vision/stable/models.html#runtime-characteristics see Faster R-CNN for the details of this model, what it requires, returns, etc\n",
        "\n",
        "wandb.init(project=\"great-barrier-reef\", entity=\"ap-wt\", config = wandb.config)\n",
        "\n",
        "for e in tqdm(range(wandb.config['epochs'])):\n",
        "    \n",
        "    model.train()\n",
        "    for images, targets in train_dataloader:\n",
        "        target = []\n",
        "        for i in range(len(images)):\n",
        "            d = {}\n",
        "            d['boxes'] = targets[0][i].to(device)\n",
        "            d['labels'] = targets[1][i].to(device)\n",
        "            target.append(d)\n",
        "\n",
        "        images = images.to(device)\n",
        "\n",
        "        loss_dict = model(images, target)\n",
        "        loss = sum(loss for loss in loss_dict.values())\n",
        "\n",
        "        optimizer.zero_grad()\n",
        "        loss.backward()\n",
        "        optimizer.step()\n",
        "        \n",
        "\n",
        "    model.eval()\n",
        "    print('Reached eval')\n",
        "    with torch.no_grad():\n",
        "        groundtruth, predictions = None, None\n",
        "        for idx, (images, targets) in enumerate(test_dataloader):\n",
        "            # torch.cuda.empty_cache()\n",
        "            images = images.to(device)\n",
        "            predictions = model(images)\n",
        "            # if idx == 0:\n",
        "                # print(predictions)\n",
        "            wandb.log({\"scores\": predictions[0]['scores']})\n",
        "\n",
        "            # print(predictions)\n",
        "            # if idx % 100 == 0:\n",
        "            #     print(predictions[0]['scores'])\n",
        "\n",
        "    optimizer.step()\n",
        "wandb.finish()"
      ],
      "metadata": {
        "pycharm": {
          "name": "#%%\n",
          "is_executing": true
        },
        "jupyter": {
          "outputs_hidden": false
        },
        "execution": {
          "iopub.status.busy": "2022-01-15T14:25:07.542207Z",
          "iopub.execute_input": "2022-01-15T14:25:07.542717Z",
          "iopub.status.idle": "2022-01-15T14:27:34.233257Z",
          "shell.execute_reply.started": "2022-01-15T14:25:07.542683Z",
          "shell.execute_reply": "2022-01-15T14:27:34.232060Z"
        },
        "trusted": true,
        "id": "IZq9ZxqRAfkn",
        "outputId": "3bbfbed6-47ca-44f2-c16f-2dfef9a036ec",
        "colab": {
          "base_uri": "https://localhost:8080/",
          "height": 335,
          "referenced_widgets": [
            "dee64e5612984a6da64e3cd0684be9cb",
            "86c2e5964b214305a5c94329e27db3d0",
            "b9112099afca40dead10348a436391c7",
            "eef2181c34ae4fe2be8e29e710f2cfb7",
            "38d4523369204e5b974b000af10f2757",
            "259249532d934f4bb542cfedf8acb87b",
            "ae5186ca42994328a6f2b344cd54c178",
            "f82143fa1be146399844954c0e695e1a"
          ]
        }
      },
      "execution_count": 6,
      "outputs": [
        {
          "output_type": "stream",
          "name": "stderr",
          "text": [
            "\u001b[34m\u001b[1mwandb\u001b[0m: Currently logged in as: \u001b[33map-wt\u001b[0m (use `wandb login --relogin` to force relogin)\n"
          ]
        },
        {
          "output_type": "display_data",
          "data": {
            "text/html": [
              "\n",
              "                    Syncing run <strong><a href=\"https://wandb.ai/ap-wt/great-barrier-reef/runs/3a6onup2\" target=\"_blank\">giddy-serenity-7</a></strong> to <a href=\"https://wandb.ai/ap-wt/great-barrier-reef\" target=\"_blank\">Weights & Biases</a> (<a href=\"https://docs.wandb.com/integrations/jupyter.html\" target=\"_blank\">docs</a>).<br/>\n",
              "\n",
              "                "
            ],
            "text/plain": [
              "<IPython.core.display.HTML object>"
            ]
          },
          "metadata": {}
        },
        {
          "output_type": "stream",
          "name": "stderr",
          "text": [
            "\r  0%|          | 0/2 [00:00<?, ?it/s]/usr/local/lib/python3.7/dist-packages/torch/functional.py:445: UserWarning: torch.meshgrid: in an upcoming release, it will be required to pass the indexing argument. (Triggered internally at  ../aten/src/ATen/native/TensorShape.cpp:2157.)\n",
            "  return _VF.meshgrid(tensors, **kwargs)  # type: ignore[attr-defined]\n"
          ]
        },
        {
          "output_type": "stream",
          "name": "stdout",
          "text": [
            "Reached eval\n",
            "[{'boxes': tensor([], device='cuda:0', size=(0, 4)), 'labels': tensor([], device='cuda:0', dtype=torch.int64), 'scores': tensor([], device='cuda:0')}]\n",
            "tensor([], device='cuda:0')\n"
          ]
        },
        {
          "output_type": "stream",
          "name": "stderr",
          "text": [
            "\r 50%|█████     | 1/2 [06:03<06:03, 363.08s/it]"
          ]
        },
        {
          "output_type": "stream",
          "name": "stdout",
          "text": [
            "Reached eval\n",
            "[{'boxes': tensor([], device='cuda:0', size=(0, 4)), 'labels': tensor([], device='cuda:0', dtype=torch.int64), 'scores': tensor([], device='cuda:0')}]\n",
            "tensor([], device='cuda:0')\n"
          ]
        },
        {
          "output_type": "stream",
          "name": "stderr",
          "text": [
            "100%|██████████| 2/2 [12:04<00:00, 362.18s/it]\n"
          ]
        },
        {
          "output_type": "display_data",
          "data": {
            "text/html": [
              "<br/>Waiting for W&B process to finish, PID 2143... <strong style=\"color:green\">(success).</strong>"
            ],
            "text/plain": [
              "<IPython.core.display.HTML object>"
            ]
          },
          "metadata": {}
        },
        {
          "output_type": "display_data",
          "data": {
            "application/vnd.jupyter.widget-view+json": {
              "model_id": "dee64e5612984a6da64e3cd0684be9cb",
              "version_minor": 0,
              "version_major": 2
            },
            "text/plain": [
              "VBox(children=(Label(value=' 0.00MB of 0.00MB uploaded (0.00MB deduped)\\r'), FloatProgress(value=1.0, max=1.0)…"
            ]
          },
          "metadata": {}
        },
        {
          "output_type": "display_data",
          "data": {
            "text/html": [
              "<style>\n",
              "    table.wandb td:nth-child(1) { padding: 0 10px; text-align: right }\n",
              "    .wandb-row { display: flex; flex-direction: row; flex-wrap: wrap; width: 100% }\n",
              "    .wandb-col { display: flex; flex-direction: column; flex-basis: 100%; flex: 1; padding: 10px; }\n",
              "    </style>\n",
              "<div class=\"wandb-row\"><div class=\"wandb-col\">\n",
              "</div><div class=\"wandb-col\">\n",
              "</div></div>\n",
              "Synced 5 W&B file(s), 0 media file(s), 0 artifact file(s) and 0 other file(s)\n",
              "<br/>Synced <strong style=\"color:#cdcd00\">giddy-serenity-7</strong>: <a href=\"https://wandb.ai/ap-wt/great-barrier-reef/runs/3a6onup2\" target=\"_blank\">https://wandb.ai/ap-wt/great-barrier-reef/runs/3a6onup2</a><br/>\n",
              "Find logs at: <code>./wandb/run-20220116_192235-3a6onup2/logs</code><br/>\n"
            ],
            "text/plain": [
              "<IPython.core.display.HTML object>"
            ]
          },
          "metadata": {}
        }
      ]
    }
  ]
}