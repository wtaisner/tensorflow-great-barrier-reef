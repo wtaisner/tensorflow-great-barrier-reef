{
  "metadata": {
    "kernelspec": {
      "language": "python",
      "display_name": "Python 3",
      "name": "python3"
    },
    "language_info": {
      "name": "python",
      "version": "3.7.12",
      "mimetype": "text/x-python",
      "codemirror_mode": {
        "name": "ipython",
        "version": 3
      },
      "pygments_lexer": "ipython3",
      "nbconvert_exporter": "python",
      "file_extension": ".py"
    },
    "colab": {
      "name": "competition.ipynb",
      "provenance": [],
      "include_colab_link": true
    },
    "accelerator": "GPU"
  },
  "nbformat_minor": 0,
  "nbformat": 4,
  "cells": [
    {
      "cell_type": "markdown",
      "metadata": {
        "id": "view-in-github",
        "colab_type": "text"
      },
      "source": [
        "<a href=\"https://colab.research.google.com/github/wtaisner/tensorflow-great-barrier-reef/blob/main/competition.ipynb\" target=\"_parent\"><img src=\"https://colab.research.google.com/assets/colab-badge.svg\" alt=\"Open In Colab\"/></a>"
      ]
    },
    {
      "cell_type": "code",
      "source": [
        "try:\n",
        "    import wandb\n",
        "except:\n",
        "    !pip install wandb\n",
        "    import wandb\n",
        "!wandb login"
      ],
      "metadata": {
        "colab": {
          "base_uri": "https://localhost:8080/"
        },
        "id": "v_qievHg-wUI",
        "outputId": "243f6f7c-bca6-443c-9545-f71ea983982a"
      },
      "execution_count": 1,
      "outputs": [
        {
          "output_type": "stream",
          "name": "stdout",
          "text": [
            "\u001b[34m\u001b[1mwandb\u001b[0m: Currently logged in as: \u001b[33map-wt\u001b[0m (use `wandb login --relogin` to force relogin)\n"
          ]
        }
      ]
    },
    {
      "cell_type": "code",
      "source": [
        "from google.colab import drive\n",
        "drive.mount('/content/drive')"
      ],
      "metadata": {
        "id": "V6HmwJQ_Cmzv",
        "outputId": "f4876f1d-0593-4bb0-dd8f-bf8f6db99447",
        "colab": {
          "base_uri": "https://localhost:8080/"
        }
      },
      "execution_count": 2,
      "outputs": [
        {
          "output_type": "stream",
          "name": "stdout",
          "text": [
            "Drive already mounted at /content/drive; to attempt to forcibly remount, call drive.mount(\"/content/drive\", force_remount=True).\n"
          ]
        }
      ]
    },
    {
      "cell_type": "code",
      "source": [
        "import pandas as pd\n",
        "import os\n",
        "from torch.utils.data import Dataset, DataLoader\n",
        "from torchvision.io import read_image\n",
        "from torchvision.models.detection.faster_rcnn import FastRCNNPredictor\n",
        "import torch.nn as nn\n",
        "import torchvision\n",
        "import ast\n",
        "import torch\n",
        "from tqdm import tqdm\n",
        "\n",
        "import matplotlib.pyplot as plt\n",
        "import matplotlib.patches as patches\n",
        "\n",
        "# this should probably be changed to something smart, right?\n",
        "KAGGLE_PATH_ANNOTATIONS = '/kaggle/input/tensorflow-great-barrier-reef/train.csv'\n",
        "KAGGLE_PATH_IMG_DIR = '/kaggle/input/tensorflow-great-barrier-reef/train_images/'\n",
        "LOCAL_PATH_ANNOTATIONS = 'data/train.csv'\n",
        "LOCAL_PATH_IMG_DIR = 'data/train_images/'\n",
        "COLAB_PATH_ANNOTATIONS = '/content/drive/MyDrive/data/train.csv'\n",
        "COLAB_PATH_IMG_DIR = '/content/drive/MyDrive/data/train_images/'\n",
        "\n",
        "wandb.config = {\n",
        "  \"learning_rate\": 0.001,\n",
        "  \"epochs\": 2,\n",
        "  \"batch_size\": 2,\n",
        "  \"momentum\": 0.9,\n",
        "  \"weight_decay\": 0.0005\n",
        "}"
      ],
      "metadata": {
        "_cell_guid": "b1076dfc-b9ad-4769-8c92-a6c4dae69d19",
        "_uuid": "8f2839f25d086af736a60e9eeb907d3b93b6e0e5",
        "papermill": {
          "duration": 1.961038,
          "end_time": "2022-01-14T11:54:15.753091",
          "exception": false,
          "start_time": "2022-01-14T11:54:13.792053",
          "status": "completed"
        },
        "tags": [],
        "execution": {
          "iopub.status.busy": "2022-01-15T14:23:18.334933Z",
          "iopub.execute_input": "2022-01-15T14:23:18.335249Z",
          "iopub.status.idle": "2022-01-15T14:23:19.642124Z",
          "shell.execute_reply.started": "2022-01-15T14:23:18.335161Z",
          "shell.execute_reply": "2022-01-15T14:23:19.641445Z"
        },
        "trusted": true,
        "id": "jc9q8KQLAfkX"
      },
      "execution_count": 3,
      "outputs": []
    },
    {
      "cell_type": "code",
      "source": [
        "class StarfishDataset(Dataset):\n",
        "    def __init__(self,\n",
        "                 annotations_file=COLAB_PATH_ANNOTATIONS,\n",
        "                 img_dir=COLAB_PATH_IMG_DIR\n",
        "                 ):\n",
        "        self.img_labels = pd.read_csv(annotations_file)\n",
        "        self.annotated = self.img_labels[self.img_labels['annotations'] != '[]']  # get only annotated frames\n",
        "        self.img_dir = img_dir\n",
        "\n",
        "    def __len__(self):\n",
        "        return len(self.annotated)\n",
        "\n",
        "    def __getitem__(self, idx):\n",
        "        image = read_image(os.path.join(self.img_dir, 'video_{}'.format(self.annotated.iloc[idx][0]),\n",
        "                                        '{}.jpg'.format(self.annotated.iloc[idx][2])))\n",
        "        min_image = image.min()\n",
        "        max_image = image.max()\n",
        "        # normalize image to 0-1 - required by torchvision\n",
        "        image -= min_image\n",
        "        image = torch.FloatTensor(image/max_image)\n",
        "        # print(image.shape) # image shape has to be [C, H, W], it is :)\n",
        "        labels = self.annotated.iloc[idx][-1]\n",
        "        labels = ast.literal_eval(labels)\n",
        "        coords = []\n",
        "        for parsed_label in labels:\n",
        "            x1, y1 = parsed_label['x'], parsed_label['y']\n",
        "            x2, y2 = x1+parsed_label['width'], y1+parsed_label['height']\n",
        "            coords.append([x1, y1, x2, y2])\n",
        "\n",
        "            # fig, ax = plt.subplots()\n",
        "            # ax.imshow(image.permute(1, 2, 0))\n",
        "            # rect = patches.Rectangle((x1, y1), parsed_label['width'], parsed_label['height'], linewidth=1, edgecolor='r', facecolor='none')\n",
        "            # ax.add_patch(rect)\n",
        "            # plt.show()\n",
        "\n",
        "        boxes = torch.FloatTensor(coords)\n",
        "        labels = torch.LongTensor([0 for _ in range(len(coords))]) # label has to be integer, since we have only one label I coded it as 0 for simplicity\n",
        "        # print(target[0].shape, target[1].shape)\n",
        "        return image, boxes, labels\n",
        "\n",
        "# dataset = StarfishDataset()\n",
        "# dataset.__getitem__(0)\n"
      ],
      "metadata": {
        "pycharm": {
          "name": "#%%\n"
        },
        "jupyter": {
          "outputs_hidden": false
        },
        "execution": {
          "iopub.status.busy": "2022-01-15T14:23:19.643849Z",
          "iopub.execute_input": "2022-01-15T14:23:19.644532Z",
          "iopub.status.idle": "2022-01-15T14:23:19.856879Z",
          "shell.execute_reply.started": "2022-01-15T14:23:19.644491Z",
          "shell.execute_reply": "2022-01-15T14:23:19.856050Z"
        },
        "trusted": true,
        "id": "tg35LhdxAfkd"
      },
      "execution_count": 4,
      "outputs": []
    },
    {
      "cell_type": "code",
      "source": [
        "def collate_fn(batch):\n",
        "    targets = []\n",
        "    images = []\n",
        "    for imgs, boxes, labels in batch:\n",
        "        images.append(imgs)\n",
        "        d = {}\n",
        "        d['boxes'] = boxes\n",
        "        d['labels'] = labels\n",
        "        targets.append(d)\n",
        "    return images, targets"
      ],
      "metadata": {
        "id": "UYRK09bPRfII"
      },
      "execution_count": 5,
      "outputs": []
    },
    {
      "cell_type": "code",
      "source": [
        "torch.manual_seed(1)\n",
        "\n",
        "dataset = StarfishDataset()\n",
        "train_size = int(0.1 * len(dataset))\n",
        "test_size = len(dataset) - train_size\n",
        "train_dataset, test_dataset = torch.utils.data.random_split(dataset, [train_size, test_size])\n",
        "\n",
        "# extract only small part of the data for faster learning / testing process\n",
        "train_size = int(0.8 * len(train_dataset))\n",
        "test_size = len(train_dataset) - train_size\n",
        "train_dataset, test_dataset = torch.utils.data.random_split(train_dataset, [train_size, test_size])\n",
        "\n",
        "\n",
        "print('Train dataset: {} instances, test dataset: {}'.format(len(train_dataset), len(test_dataset)))\n",
        "\n",
        "\n",
        "train_dataloader = DataLoader(\n",
        "    train_dataset, batch_size=wandb.config['batch_size'], shuffle=False, num_workers=1, collate_fn = collate_fn)\n",
        "test_dataloader = DataLoader(\n",
        "    test_dataset, batch_size=wandb.config['batch_size'], shuffle=False, num_workers=1,  collate_fn = collate_fn)\n",
        "\n",
        "device = torch.device('cuda') if torch.cuda.is_available() else torch.device('cpu')\n",
        "cpu = torch.device('cpu')\n",
        "print('Used device: {}'.format(device))\n",
        "\n",
        "num_classes = 2  # starfish and not starfish I guess\n",
        "\n",
        "model = torchvision.models.detection.fasterrcnn_resnet50_fpn(pretrained=True)\n",
        "in_features = model.roi_heads.box_predictor.cls_score.in_features\n",
        "model.roi_heads.box_predictor = FastRCNNPredictor(in_features, num_classes)\n",
        "model.to(device)\n",
        "\n",
        "params = [p for p in model.parameters() if p.requires_grad]\n",
        "optimizer = torch.optim.SGD(params, lr=wandb.config['learning_rate'], momentum=wandb.config['momentum'], weight_decay=wandb.config['weight_decay'])\n",
        "lr_scheduler = torch.optim.lr_scheduler.StepLR(optimizer, step_size=3, gamma=0.1)"
      ],
      "metadata": {
        "pycharm": {
          "name": "#%%\n"
        },
        "jupyter": {
          "outputs_hidden": false
        },
        "execution": {
          "iopub.status.busy": "2022-01-15T14:25:03.794536Z",
          "iopub.execute_input": "2022-01-15T14:25:03.794811Z",
          "iopub.status.idle": "2022-01-15T14:25:04.483121Z",
          "shell.execute_reply.started": "2022-01-15T14:25:03.794780Z",
          "shell.execute_reply": "2022-01-15T14:25:04.482306Z"
        },
        "trusted": true,
        "id": "wkGu_Sh6Afkh",
        "outputId": "72f6ef80-af64-479a-b384-a6de9d5aad18",
        "colab": {
          "base_uri": "https://localhost:8080/"
        }
      },
      "execution_count": 6,
      "outputs": [
        {
          "output_type": "stream",
          "name": "stdout",
          "text": [
            "Train dataset: 392 instances, test dataset: 99\n",
            "Used device: cuda\n"
          ]
        }
      ]
    },
    {
      "cell_type": "code",
      "source": [
        "# images, boxes = torch.rand(4, 3, 600, 1200), torch.rand(4, 11, 4)\n",
        "# labels = torch.randint(1, 91, (4, 11))\n",
        "# images = list(image for image in images)\n",
        "# targets = []\n",
        "# for i in range(len(images)):\n",
        "#     d = {}\n",
        "#     d['boxes'] = boxes[i]\n",
        "#     d['labels'] = labels[i]\n",
        "#     targets.append(d)\n",
        "\n",
        "# print('Images {} \\n Boxes {} \\n labels {} \\n targets {} \\n'.format(len(images), boxes.shape, labels.shape, targets))"
      ],
      "metadata": {
        "id": "GRxcE-ZAP2xP"
      },
      "execution_count": 7,
      "outputs": []
    },
    {
      "cell_type": "code",
      "source": [
        "# https://pytorch.org/vision/stable/models.html#runtime-characteristics see Faster R-CNN for the details of this model, what it requires, returns, etc\n",
        "\n",
        "# https://github.com/pytorch/vision/blob/main/references/detection/engine.py probably see training and eval loops here\n",
        "\n",
        "# wandb.init(project=\"great-barrier-reef\", entity=\"ap-wt\", config = wandb.config)\n",
        "\n",
        "# for e in tqdm(range(wandb.config['epochs'])):\n",
        "for e in tqdm(range(2)):\n",
        "    print('\\n')\n",
        "    \n",
        "    model.train()\n",
        "\n",
        "    for images, targets in train_dataloader:\n",
        "\n",
        "        images = list(image.to(device) for image in images)\n",
        "\n",
        "        for d in targets:\n",
        "            d['boxes'] = d['boxes'].to(device)\n",
        "            d['labels'] = d['labels'].to(device)\n",
        "\n",
        "        loss_dict = model(images, targets)\n",
        "        loss = sum(loss for loss in loss_dict.values())\n",
        "\n",
        "        optimizer.zero_grad()\n",
        "        loss.backward()\n",
        "        optimizer.step()\n",
        "        \n",
        "    model.eval()\n",
        "    print('Reached eval')\n",
        "    with torch.no_grad():\n",
        "        groundtruth, predictions = None, None\n",
        "        for idx, (images, targets) in enumerate(test_dataloader):\n",
        "\n",
        "            images = list(image.to(device) for image in images)\n",
        "            predictions = model(images)\n",
        "            outputs = [{k: v.to(cpu) for k, v in t.items()} for t in predictions]\n",
        "            # TODO: add some comparison with 'targets' perhaps\n",
        "            if idx % 10 == 0:\n",
        "                print(outputs)\n",
        "            # wandb.log({\"adam\": outputs})\n",
        "\n",
        "    optimizer.step()\n",
        "# wandb.finish()"
      ],
      "metadata": {
        "pycharm": {
          "name": "#%%\n",
          "is_executing": true
        },
        "jupyter": {
          "outputs_hidden": false
        },
        "execution": {
          "iopub.status.busy": "2022-01-15T14:25:07.542207Z",
          "iopub.execute_input": "2022-01-15T14:25:07.542717Z",
          "iopub.status.idle": "2022-01-15T14:27:34.233257Z",
          "shell.execute_reply.started": "2022-01-15T14:25:07.542683Z",
          "shell.execute_reply": "2022-01-15T14:27:34.232060Z"
        },
        "trusted": true,
        "id": "IZq9ZxqRAfkn",
        "outputId": "c305c710-b6df-4823-d8bb-08ae8aa053f5",
        "colab": {
          "base_uri": "https://localhost:8080/"
        }
      },
      "execution_count": 8,
      "outputs": [
        {
          "output_type": "stream",
          "name": "stderr",
          "text": [
            "\r  0%|          | 0/2 [00:00<?, ?it/s]"
          ]
        },
        {
          "output_type": "stream",
          "name": "stdout",
          "text": [
            "\n",
            "\n"
          ]
        },
        {
          "output_type": "stream",
          "name": "stderr",
          "text": [
            "/usr/local/lib/python3.7/dist-packages/torch/functional.py:445: UserWarning: torch.meshgrid: in an upcoming release, it will be required to pass the indexing argument. (Triggered internally at  ../aten/src/ATen/native/TensorShape.cpp:2157.)\n",
            "  return _VF.meshgrid(tensors, **kwargs)  # type: ignore[attr-defined]\n"
          ]
        },
        {
          "output_type": "stream",
          "name": "stdout",
          "text": [
            "Reached eval\n",
            "[{'boxes': tensor([], size=(0, 4)), 'labels': tensor([], dtype=torch.int64), 'scores': tensor([])}, {'boxes': tensor([], size=(0, 4)), 'labels': tensor([], dtype=torch.int64), 'scores': tensor([])}]\n",
            "[{'boxes': tensor([], size=(0, 4)), 'labels': tensor([], dtype=torch.int64), 'scores': tensor([])}, {'boxes': tensor([], size=(0, 4)), 'labels': tensor([], dtype=torch.int64), 'scores': tensor([])}]\n",
            "[{'boxes': tensor([], size=(0, 4)), 'labels': tensor([], dtype=torch.int64), 'scores': tensor([])}, {'boxes': tensor([], size=(0, 4)), 'labels': tensor([], dtype=torch.int64), 'scores': tensor([])}]\n",
            "[{'boxes': tensor([], size=(0, 4)), 'labels': tensor([], dtype=torch.int64), 'scores': tensor([])}, {'boxes': tensor([], size=(0, 4)), 'labels': tensor([], dtype=torch.int64), 'scores': tensor([])}]\n",
            "[{'boxes': tensor([], size=(0, 4)), 'labels': tensor([], dtype=torch.int64), 'scores': tensor([])}, {'boxes': tensor([], size=(0, 4)), 'labels': tensor([], dtype=torch.int64), 'scores': tensor([])}]\n"
          ]
        },
        {
          "output_type": "stream",
          "name": "stderr",
          "text": [
            "\r 50%|█████     | 1/2 [02:12<02:12, 132.69s/it]"
          ]
        },
        {
          "output_type": "stream",
          "name": "stdout",
          "text": [
            "\n",
            "\n",
            "Reached eval\n",
            "[{'boxes': tensor([], size=(0, 4)), 'labels': tensor([], dtype=torch.int64), 'scores': tensor([])}, {'boxes': tensor([], size=(0, 4)), 'labels': tensor([], dtype=torch.int64), 'scores': tensor([])}]\n",
            "[{'boxes': tensor([], size=(0, 4)), 'labels': tensor([], dtype=torch.int64), 'scores': tensor([])}, {'boxes': tensor([], size=(0, 4)), 'labels': tensor([], dtype=torch.int64), 'scores': tensor([])}]\n",
            "[{'boxes': tensor([], size=(0, 4)), 'labels': tensor([], dtype=torch.int64), 'scores': tensor([])}, {'boxes': tensor([], size=(0, 4)), 'labels': tensor([], dtype=torch.int64), 'scores': tensor([])}]\n",
            "[{'boxes': tensor([], size=(0, 4)), 'labels': tensor([], dtype=torch.int64), 'scores': tensor([])}, {'boxes': tensor([], size=(0, 4)), 'labels': tensor([], dtype=torch.int64), 'scores': tensor([])}]\n",
            "[{'boxes': tensor([], size=(0, 4)), 'labels': tensor([], dtype=torch.int64), 'scores': tensor([])}, {'boxes': tensor([], size=(0, 4)), 'labels': tensor([], dtype=torch.int64), 'scores': tensor([])}]\n"
          ]
        },
        {
          "output_type": "stream",
          "name": "stderr",
          "text": [
            "100%|██████████| 2/2 [04:24<00:00, 132.24s/it]\n"
          ]
        }
      ]
    },
    {
      "cell_type": "code",
      "source": [
        ""
      ],
      "metadata": {
        "id": "qxM4AnVQTjHs"
      },
      "execution_count": 8,
      "outputs": []
    }
  ]
}