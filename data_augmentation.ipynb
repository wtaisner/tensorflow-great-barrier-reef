{
 "metadata": {
  "kernelspec": {
   "language": "python",
   "display_name": "Python 3",
   "name": "python3"
  },
  "language_info": {
   "pygments_lexer": "ipython3",
   "nbconvert_exporter": "python",
   "version": "3.6.4",
   "file_extension": ".py",
   "codemirror_mode": {
    "name": "ipython",
    "version": 3
   },
   "name": "python",
   "mimetype": "text/x-python"
  },
  "colab": {
   "name": "data-augmentation.ipynb",
   "provenance": [],
   "include_colab_link": true
  }
 },
 "nbformat_minor": 0,
 "nbformat": 4,
 "cells": [
  {
   "cell_type": "markdown",
   "source": [
    "Data augmentation"
   ],
   "metadata": {
    "id": "2UXEdDKlrZac"
   }
  },
  {
   "cell_type": "code",
   "source": [
    "import albumentations as A\n",
    "import cv2\n",
    "import pandas as pd\n",
    "import ast\n",
    "import os\n",
    "from tqdm import tqdm\n",
    "import numpy as np\n",
    "import torch\n",
    "from torch.utils.data import Dataset, DataLoader\n",
    "import shutil\n",
    "import matplotlib as plt\n",
    "import yaml"
   ],
   "metadata": {
    "execution": {
     "iopub.status.busy": "2022-01-24T23:21:02.727254Z",
     "iopub.execute_input": "2022-01-24T23:21:02.72751Z",
     "iopub.status.idle": "2022-01-24T23:21:05.152138Z",
     "shell.execute_reply.started": "2022-01-24T23:21:02.727481Z",
     "shell.execute_reply": "2022-01-24T23:21:05.151282Z"
    },
    "trusted": true,
    "id": "I8k4l8N6rZak"
   },
   "execution_count": 1,
   "outputs": []
  },
  {
   "cell_type": "code",
   "source": [
    "WIDTH = 1280\n",
    "HEIGHT = 720\n",
    "\n",
    "LOCAL_PATH_ANNOTATIONS = 'data/train.csv'\n",
    "LOCAL_PATH_IMG_DIR = 'data/train_images/'\n",
    "LOCAL_SAVE = 'data_yolo/augmented'\n",
    "LOCAL_PREFIX = 'data_yolo/'\n",
    "TRAIN_IMG = 'data/images/train'\n",
    "VAL_IMG = 'data/images/val'\n",
    "TEST_IMG = 'data/images/test'\n",
    "\n",
    "TRAIN_LBL = 'data/labels/train'\n",
    "VAL_LBL = 'data/labels/val'\n",
    "TEST_LBL = 'data/labels/test'"
   ],
   "metadata": {
    "execution": {
     "iopub.status.busy": "2022-01-24T23:21:10.530233Z",
     "iopub.execute_input": "2022-01-24T23:21:10.530482Z",
     "iopub.status.idle": "2022-01-24T23:21:10.540744Z",
     "shell.execute_reply.started": "2022-01-24T23:21:10.530454Z",
     "shell.execute_reply": "2022-01-24T23:21:10.539992Z"
    },
    "trusted": true,
    "id": "RRDZZotyrZan"
   },
   "execution_count": 2,
   "outputs": []
  },
  {
   "cell_type": "code",
   "source": [
    "transform_flip_h = A.Compose(\n",
    "    [A.HorizontalFlip(p=1)],\n",
    "    bbox_params = A.BboxParams(format='yolo', label_fields = ['category_ids'])\n",
    ")\n",
    "transform_flip_v = A.Compose(\n",
    "    [A.VerticalFlip(p=1)],\n",
    "    bbox_params = A.BboxParams(format='yolo', label_fields = ['category_ids'])\n",
    ")\n",
    "transform_colors = A.Compose(\n",
    "    [A.RandomBrightnessContrast(p=0.5),\n",
    "    A.RGBShift(r_shift_limit=30, g_shift_limit=30, b_shift_limit=30, p=0.7)],\n",
    "    bbox_params = A.BboxParams(format='yolo', label_fields = ['category_ids'])\n",
    ")\n",
    "\n",
    "transformations = [transform_flip_v, transform_flip_h, transform_colors]"
   ],
   "metadata": {
    "execution": {
     "iopub.status.busy": "2022-01-24T23:21:10.541892Z",
     "iopub.execute_input": "2022-01-24T23:21:10.542094Z",
     "iopub.status.idle": "2022-01-24T23:21:10.55735Z",
     "shell.execute_reply.started": "2022-01-24T23:21:10.542069Z",
     "shell.execute_reply": "2022-01-24T23:21:10.556587Z"
    },
    "trusted": true,
    "id": "6P2G59gArZap"
   },
   "execution_count": 3,
   "outputs": []
  },
  {
   "cell_type": "code",
   "source": [
    "def create_augmented_data(annotations_file, img_dir, save_path, transformations=transformations):\n",
    "    img_labels = pd.read_csv(annotations_file)\n",
    "    annotated = img_labels[img_labels['annotations'] != '[]']\n",
    "    bboxes = {'id':[], 'bboxes':[]}\n",
    "    i = 0\n",
    "    for idx in tqdm(range(len(annotated))):\n",
    "        image = cv2.imread(os.path.join(img_dir, 'video_{}'.format(annotated.iloc[idx][0]),'{}.jpg'.format(annotated.iloc[idx][2])))\n",
    "        image = cv2.cvtColor(image, cv2.COLOR_BGR2RGB)\n",
    "        cv2.imwrite(os.path.join(save_path, 'images/im{}.jpg'.format(i)), cv2.cvtColor(image, cv2.COLOR_RGB2BGR))\n",
    "        labels = annotated.iloc[idx][-1]\n",
    "        labels = ast.literal_eval(labels)\n",
    "        coords = []\n",
    "        for parsed_label in labels:\n",
    "            x, y = parsed_label['x'], parsed_label['y']\n",
    "            w, h = parsed_label['width'], parsed_label['height']\n",
    "            cx, cy = min((0.5*w + x)/WIDTH, 1), min((0.5*h + y)/HEIGHT, 1)\n",
    "            nw, nh = min(w/WIDTH, 1), min(h/HEIGHT, 1)\n",
    "            coords.append([cx, cy, nw, nh])\n",
    "        labels = [0 for _ in range(len(coords))]\n",
    "        bboxes['id'].append(i)\n",
    "        bboxes['bboxes'].append(coords)\n",
    "        i += 1\n",
    "            \n",
    "        try:\n",
    "            for transform in transformations:\n",
    "                transformed = transform(image=image, bboxes=coords, category_ids=labels)\n",
    "                img = transformed['image']\n",
    "                boxes = transformed['bboxes']\n",
    "                cv2.imwrite(os.path.join(save_path, 'images/im{}.jpg'.format(i)), cv2.cvtColor(img, cv2.COLOR_RGB2BGR))\n",
    "                bboxes['id'].append(i)\n",
    "                bboxes['bboxes'].append(boxes)\n",
    "                i += 1\n",
    "        except:\n",
    "            print(os.path.join(img_dir, 'video_{}'.format(annotated.iloc[idx][0]),'{}.jpg'.format(annotated.iloc[idx][2])))\n",
    "    csv = pd.DataFrame(data=bboxes)\n",
    "    csv.to_csv(os.path.join(save_path, 'data.csv'))\n",
    "    \n",
    "    "
   ],
   "metadata": {
    "execution": {
     "iopub.status.busy": "2022-01-24T23:21:10.558651Z",
     "iopub.execute_input": "2022-01-24T23:21:10.55889Z",
     "iopub.status.idle": "2022-01-24T23:21:10.576173Z",
     "shell.execute_reply.started": "2022-01-24T23:21:10.558852Z",
     "shell.execute_reply": "2022-01-24T23:21:10.575542Z"
    },
    "trusted": true,
    "id": "2_v2gv_hrZap"
   },
   "execution_count": 4,
   "outputs": []
  },
  {
   "cell_type": "code",
   "source": [
    "create_augmented_data(LOCAL_PATH_ANNOTATIONS, LOCAL_PATH_IMG_DIR, LOCAL_SAVE)"
   ],
   "metadata": {
    "execution": {
     "iopub.status.busy": "2022-01-24T23:21:10.577425Z",
     "iopub.execute_input": "2022-01-24T23:21:10.578091Z",
     "iopub.status.idle": "2022-01-24T23:32:22.231118Z",
     "shell.execute_reply.started": "2022-01-24T23:21:10.578057Z",
     "shell.execute_reply": "2022-01-24T23:32:22.230074Z"
    },
    "trusted": true,
    "id": "C7x2tayUrZar",
    "pycharm": {
     "is_executing": true
    }
   },
   "execution_count": null,
   "outputs": [
    {
     "name": "stderr",
     "output_type": "stream",
     "text": [
      "  4%|▍         | 194/4919 [00:37<16:26,  4.79it/s]"
     ]
    }
   ]
  },
  {
   "cell_type": "markdown",
   "source": [
    "Dataset preparation - yolo"
   ],
   "metadata": {
    "id": "DY8Bq5sDrZar"
   }
  },
  {
   "cell_type": "code",
   "source": [
    "class StarfishDataset(Dataset):\n",
    "    def __init__(self,\n",
    "                 annotations_file='data_yolo/augmented/data.csv',\n",
    "                 img_dir='data_yolo/augmented/images'\n",
    "                 ):\n",
    "        self.img_labels = pd.read_csv(annotations_file)\n",
    "        self.annotated = self.img_labels[self.img_labels['bboxes'] != '[]']  # get only annotated frames\n",
    "        self.img_dir = img_dir\n",
    "\n",
    "    def __len__(self):\n",
    "        return len(self.annotated)\n",
    "\n",
    "    def __getitem__(self, idx):\n",
    "        image = os.path.join(self.img_dir, 'im{}.jpg'.format(self.annotated.iloc[idx][0]))\n",
    "        coords = self.annotated.iloc[idx][-1]\n",
    "        coords = np.array(ast.literal_eval(coords))\n",
    "        labels = np.array([0 for _ in range(len(coords))])\n",
    "        labels = np.expand_dims(labels, axis=0)\n",
    "        labels = np.concatenate((labels.T, coords), axis=1)\n",
    "        boxes = np.array(labels)\n",
    "        return image, boxes"
   ],
   "metadata": {
    "execution": {
     "iopub.status.busy": "2022-01-24T23:34:01.817564Z",
     "iopub.status.idle": "2022-01-24T23:34:01.818036Z",
     "shell.execute_reply.started": "2022-01-24T23:34:01.817871Z",
     "shell.execute_reply": "2022-01-24T23:34:01.817889Z"
    },
    "trusted": true,
    "id": "QSTPEMk3rZas",
    "pycharm": {
     "is_executing": true
    }
   },
   "execution_count": null,
   "outputs": []
  },
  {
   "cell_type": "code",
   "source": [
    "dataset = StarfishDataset()\n",
    "print(len(dataset))"
   ],
   "metadata": {
    "execution": {
     "iopub.status.busy": "2022-01-24T23:32:22.244769Z",
     "iopub.execute_input": "2022-01-24T23:32:22.245511Z",
     "iopub.status.idle": "2022-01-24T23:32:22.563918Z",
     "shell.execute_reply.started": "2022-01-24T23:32:22.24547Z",
     "shell.execute_reply": "2022-01-24T23:32:22.56304Z"
    },
    "trusted": true,
    "id": "mU50dP9srZat",
    "pycharm": {
     "is_executing": true
    }
   },
   "execution_count": null,
   "outputs": []
  },
  {
   "cell_type": "code",
   "source": [
    "train_size = 1500\n",
    "val_size = 10000\n",
    "test_size = len(dataset) - train_size - val_size\n",
    "\n",
    "train_dataset, val_dataset, test_dataset = torch.utils.data.random_split(dataset, (train_size, val_size, test_size))\n",
    "\n",
    "print('Train dataset: {} instances, validation dataset: {}, test dataset: {}'.format(len(train_dataset), len(val_dataset), len(test_dataset)))"
   ],
   "metadata": {
    "execution": {
     "iopub.status.busy": "2022-01-24T23:32:22.566695Z",
     "iopub.execute_input": "2022-01-24T23:32:22.566962Z",
     "iopub.status.idle": "2022-01-24T23:32:22.599882Z",
     "shell.execute_reply.started": "2022-01-24T23:32:22.566915Z",
     "shell.execute_reply": "2022-01-24T23:32:22.599047Z"
    },
    "trusted": true,
    "id": "qLyP4KKhrZat",
    "pycharm": {
     "is_executing": true
    }
   },
   "execution_count": null,
   "outputs": []
  },
  {
   "cell_type": "code",
   "source": [
    "def prepare_dataset(dataset, path_img, path_lbl):\n",
    "    i = 0\n",
    "    for (image, label) in dataset:\n",
    "        file_image = os.path.join(path_img ,'im{}.jpg'.format(i))\n",
    "        file_label = os.path.join(path_lbl ,'im{}.txt'.format(i))\n",
    "        shutil.copyfile(image, file_image)\n",
    "        np.savetxt(file_label, label, fmt='%i %.4f %.4f %.4f %.4f')\n",
    "        i += 1"
   ],
   "metadata": {
    "execution": {
     "iopub.status.busy": "2022-01-24T23:32:22.601235Z",
     "iopub.execute_input": "2022-01-24T23:32:22.601689Z",
     "iopub.status.idle": "2022-01-24T23:32:22.608692Z",
     "shell.execute_reply.started": "2022-01-24T23:32:22.601644Z",
     "shell.execute_reply": "2022-01-24T23:32:22.607621Z"
    },
    "trusted": true,
    "id": "yldy4KwvrZat",
    "pycharm": {
     "is_executing": true
    }
   },
   "execution_count": null,
   "outputs": []
  },
  {
   "cell_type": "code",
   "source": [
    "prepare_dataset(train_dataset, LOCAL_PREFIX+TRAIN_IMG, LOCAL_PREFIX+TRAIN_LBL)"
   ],
   "metadata": {
    "execution": {
     "iopub.status.busy": "2022-01-24T23:32:22.609975Z",
     "iopub.execute_input": "2022-01-24T23:32:22.610213Z",
     "iopub.status.idle": "2022-01-24T23:34:01.808705Z",
     "shell.execute_reply.started": "2022-01-24T23:32:22.610185Z",
     "shell.execute_reply": "2022-01-24T23:34:01.807756Z"
    },
    "trusted": true,
    "id": "Fm0CT3VWrZau",
    "pycharm": {
     "is_executing": true
    }
   },
   "execution_count": null,
   "outputs": []
  },
  {
   "cell_type": "code",
   "source": [
    "prepare_dataset(val_dataset, LOCAL_PREFIX+VAL_IMG, LOCAL_PREFIX+VAL_LBL)"
   ],
   "metadata": {
    "execution": {
     "iopub.status.busy": "2022-01-24T23:34:01.809571Z",
     "iopub.status.idle": "2022-01-24T23:34:01.810403Z",
     "shell.execute_reply.started": "2022-01-24T23:34:01.810189Z",
     "shell.execute_reply": "2022-01-24T23:34:01.81021Z"
    },
    "trusted": true,
    "id": "_kWn3pXnrZau",
    "pycharm": {
     "is_executing": true
    }
   },
   "execution_count": null,
   "outputs": []
  },
  {
   "cell_type": "code",
   "source": [
    "prepare_dataset(test_dataset, LOCAL_PREFIX+TEST_IMG, LOCAL_PREFIX+TEST_LBL)"
   ],
   "metadata": {
    "execution": {
     "iopub.status.busy": "2022-01-24T23:34:01.811208Z",
     "iopub.status.idle": "2022-01-24T23:34:01.811843Z",
     "shell.execute_reply.started": "2022-01-24T23:34:01.81164Z",
     "shell.execute_reply": "2022-01-24T23:34:01.811661Z"
    },
    "trusted": true,
    "id": "LQIgs1VzrZau",
    "pycharm": {
     "name": "#%%\n",
     "is_executing": true
    }
   },
   "execution_count": null,
   "outputs": []
  }
 ]
}