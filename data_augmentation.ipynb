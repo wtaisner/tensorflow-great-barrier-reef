{
  "metadata": {
    "kernelspec": {
      "language": "python",
      "display_name": "Python 3",
      "name": "python3"
    },
    "language_info": {
      "pygments_lexer": "ipython3",
      "nbconvert_exporter": "python",
      "version": "3.6.4",
      "file_extension": ".py",
      "codemirror_mode": {
        "name": "ipython",
        "version": 3
      },
      "name": "python",
      "mimetype": "text/x-python"
    },
    "colab": {
      "name": "data-augmentation.ipynb",
      "provenance": [],
      "include_colab_link": true
    }
  },
  "nbformat_minor": 0,
  "nbformat": 4,
  "cells": [
    {
      "cell_type": "markdown",
      "metadata": {
        "id": "view-in-github",
        "colab_type": "text"
      },
      "source": [
        "<a href=\"https://colab.research.google.com/github/wtaisner/tensorflow-great-barrier-reef/blob/main/data_augmentation.ipynb\" target=\"_parent\"><img src=\"https://colab.research.google.com/assets/colab-badge.svg\" alt=\"Open In Colab\"/></a>"
      ]
    },
    {
      "cell_type": "markdown",
      "source": [
        "Data augmentation"
      ],
      "metadata": {
        "id": "2UXEdDKlrZac"
      }
    },
    {
      "cell_type": "code",
      "source": [
        "from google.colab import drive\n",
        "drive.mount('/content/drive')"
      ],
      "metadata": {
        "colab": {
          "base_uri": "https://localhost:8080/"
        },
        "id": "VQkewxGRssJ2",
        "outputId": "d00e82d7-7b8f-4644-f82e-b5d8714bf8e5"
      },
      "execution_count": 4,
      "outputs": [
        {
          "output_type": "stream",
          "name": "stdout",
          "text": [
            "Mounted at /content/drive\n"
          ]
        }
      ]
    },
    {
      "cell_type": "code",
      "source": [
        "!pip uninstall opencv-python-headless -y\n",
        "!pip install opencv-python-headless==4.1.2.30\n",
        "!pip install --upgrade albumentations"
      ],
      "metadata": {
        "execution": {
          "iopub.status.busy": "2022-01-24T23:20:41.467813Z",
          "iopub.execute_input": "2022-01-24T23:20:41.468165Z",
          "iopub.status.idle": "2022-01-24T23:21:02.725235Z",
          "shell.execute_reply.started": "2022-01-24T23:20:41.468097Z",
          "shell.execute_reply": "2022-01-24T23:21:02.724401Z"
        },
        "trusted": true,
        "colab": {
          "base_uri": "https://localhost:8080/"
        },
        "id": "9AGw_SpjrZai",
        "outputId": "dcb1a451-7bd7-4446-cae4-6f258d526673"
      },
      "execution_count": 2,
      "outputs": [
        {
          "output_type": "stream",
          "name": "stdout",
          "text": [
            "\u001b[33mWARNING: Skipping opencv-python-headless as it is not installed.\u001b[0m\n",
            "Collecting opencv-python-headless==4.1.2.30\n",
            "  Downloading opencv_python_headless-4.1.2.30-cp37-cp37m-manylinux1_x86_64.whl (21.8 MB)\n",
            "\u001b[K     |████████████████████████████████| 21.8 MB 1.7 MB/s \n",
            "\u001b[?25hRequirement already satisfied: numpy>=1.14.5 in /usr/local/lib/python3.7/dist-packages (from opencv-python-headless==4.1.2.30) (1.19.5)\n",
            "Installing collected packages: opencv-python-headless\n",
            "Successfully installed opencv-python-headless-4.1.2.30\n",
            "Requirement already satisfied: albumentations in /usr/local/lib/python3.7/dist-packages (0.1.12)\n",
            "Collecting albumentations\n",
            "  Downloading albumentations-1.1.0-py3-none-any.whl (102 kB)\n",
            "\u001b[K     |████████████████████████████████| 102 kB 4.4 MB/s \n",
            "\u001b[?25hRequirement already satisfied: opencv-python-headless>=4.1.1 in /usr/local/lib/python3.7/dist-packages (from albumentations) (4.1.2.30)\n",
            "Requirement already satisfied: PyYAML in /usr/local/lib/python3.7/dist-packages (from albumentations) (3.13)\n",
            "Requirement already satisfied: scikit-image>=0.16.1 in /usr/local/lib/python3.7/dist-packages (from albumentations) (0.18.3)\n",
            "Collecting qudida>=0.0.4\n",
            "  Downloading qudida-0.0.4-py3-none-any.whl (3.5 kB)\n",
            "Requirement already satisfied: scipy in /usr/local/lib/python3.7/dist-packages (from albumentations) (1.4.1)\n",
            "Requirement already satisfied: numpy>=1.11.1 in /usr/local/lib/python3.7/dist-packages (from albumentations) (1.19.5)\n",
            "Requirement already satisfied: scikit-learn>=0.19.1 in /usr/local/lib/python3.7/dist-packages (from qudida>=0.0.4->albumentations) (1.0.2)\n",
            "Requirement already satisfied: typing-extensions in /usr/local/lib/python3.7/dist-packages (from qudida>=0.0.4->albumentations) (3.10.0.2)\n",
            "Requirement already satisfied: pillow!=7.1.0,!=7.1.1,>=4.3.0 in /usr/local/lib/python3.7/dist-packages (from scikit-image>=0.16.1->albumentations) (7.1.2)\n",
            "Requirement already satisfied: matplotlib!=3.0.0,>=2.0.0 in /usr/local/lib/python3.7/dist-packages (from scikit-image>=0.16.1->albumentations) (3.2.2)\n",
            "Requirement already satisfied: networkx>=2.0 in /usr/local/lib/python3.7/dist-packages (from scikit-image>=0.16.1->albumentations) (2.6.3)\n",
            "Requirement already satisfied: PyWavelets>=1.1.1 in /usr/local/lib/python3.7/dist-packages (from scikit-image>=0.16.1->albumentations) (1.2.0)\n",
            "Requirement already satisfied: imageio>=2.3.0 in /usr/local/lib/python3.7/dist-packages (from scikit-image>=0.16.1->albumentations) (2.4.1)\n",
            "Requirement already satisfied: tifffile>=2019.7.26 in /usr/local/lib/python3.7/dist-packages (from scikit-image>=0.16.1->albumentations) (2021.11.2)\n",
            "Requirement already satisfied: cycler>=0.10 in /usr/local/lib/python3.7/dist-packages (from matplotlib!=3.0.0,>=2.0.0->scikit-image>=0.16.1->albumentations) (0.11.0)\n",
            "Requirement already satisfied: python-dateutil>=2.1 in /usr/local/lib/python3.7/dist-packages (from matplotlib!=3.0.0,>=2.0.0->scikit-image>=0.16.1->albumentations) (2.8.2)\n",
            "Requirement already satisfied: pyparsing!=2.0.4,!=2.1.2,!=2.1.6,>=2.0.1 in /usr/local/lib/python3.7/dist-packages (from matplotlib!=3.0.0,>=2.0.0->scikit-image>=0.16.1->albumentations) (3.0.6)\n",
            "Requirement already satisfied: kiwisolver>=1.0.1 in /usr/local/lib/python3.7/dist-packages (from matplotlib!=3.0.0,>=2.0.0->scikit-image>=0.16.1->albumentations) (1.3.2)\n",
            "Requirement already satisfied: six>=1.5 in /usr/local/lib/python3.7/dist-packages (from python-dateutil>=2.1->matplotlib!=3.0.0,>=2.0.0->scikit-image>=0.16.1->albumentations) (1.15.0)\n",
            "Requirement already satisfied: threadpoolctl>=2.0.0 in /usr/local/lib/python3.7/dist-packages (from scikit-learn>=0.19.1->qudida>=0.0.4->albumentations) (3.0.0)\n",
            "Requirement already satisfied: joblib>=0.11 in /usr/local/lib/python3.7/dist-packages (from scikit-learn>=0.19.1->qudida>=0.0.4->albumentations) (1.1.0)\n",
            "Installing collected packages: qudida, albumentations\n",
            "  Attempting uninstall: albumentations\n",
            "    Found existing installation: albumentations 0.1.12\n",
            "    Uninstalling albumentations-0.1.12:\n",
            "      Successfully uninstalled albumentations-0.1.12\n",
            "Successfully installed albumentations-1.1.0 qudida-0.0.4\n"
          ]
        }
      ]
    },
    {
      "cell_type": "code",
      "source": [
        "import albumentations as A\n",
        "import cv2\n",
        "import pandas as pd\n",
        "import ast\n",
        "import os\n",
        "from tqdm import tqdm\n",
        "import numpy as np\n",
        "import torch\n",
        "from torch.utils.data import Dataset, DataLoader\n",
        "import matplotlib as plt\n",
        "import yaml"
      ],
      "metadata": {
        "execution": {
          "iopub.status.busy": "2022-01-24T23:21:02.727254Z",
          "iopub.execute_input": "2022-01-24T23:21:02.72751Z",
          "iopub.status.idle": "2022-01-24T23:21:05.152138Z",
          "shell.execute_reply.started": "2022-01-24T23:21:02.727481Z",
          "shell.execute_reply": "2022-01-24T23:21:05.151282Z"
        },
        "trusted": true,
        "id": "I8k4l8N6rZak"
      },
      "execution_count": null,
      "outputs": []
    },
    {
      "cell_type": "code",
      "source": [
        "%cd\n",
        "%cd /content/drive"
      ],
      "metadata": {
        "execution": {
          "iopub.status.busy": "2022-01-24T23:21:05.153442Z",
          "iopub.execute_input": "2022-01-24T23:21:05.153691Z",
          "iopub.status.idle": "2022-01-24T23:21:05.163158Z",
          "shell.execute_reply.started": "2022-01-24T23:21:05.153661Z",
          "shell.execute_reply": "2022-01-24T23:21:05.162247Z"
        },
        "trusted": true,
        "id": "je2FSfpRrZal"
      },
      "execution_count": null,
      "outputs": []
    },
    {
      "cell_type": "code",
      "source": [
        "%mkdir -p './MyDrive/yolo/data/images/train'\n",
        "%mkdir -p './MyDrive/yolo/data/images/val'\n",
        "%mkdir -p './MyDrive/yolo/data/images/test'\n",
        "%mkdir -p './MyDrive/yolo/data/labels/train'\n",
        "%mkdir -p './MyDrive/yolo/data/labels/test'\n",
        "%mkdir -p './MyDrive/yolo/data/labels/val'\n"
      ],
      "metadata": {
        "execution": {
          "iopub.status.busy": "2022-01-24T23:21:05.168294Z",
          "iopub.execute_input": "2022-01-24T23:21:05.168984Z",
          "iopub.status.idle": "2022-01-24T23:21:09.75034Z",
          "shell.execute_reply.started": "2022-01-24T23:21:05.168944Z",
          "shell.execute_reply": "2022-01-24T23:21:09.749043Z"
        },
        "trusted": true,
        "id": "L5nEqMtjrZal"
      },
      "execution_count": null,
      "outputs": []
    },
    {
      "cell_type": "code",
      "source": [
        "%cd\n",
        "%mkdir -p '/content/augmented/images'"
      ],
      "metadata": {
        "execution": {
          "iopub.status.busy": "2022-01-24T23:21:09.752033Z",
          "iopub.execute_input": "2022-01-24T23:21:09.75235Z",
          "iopub.status.idle": "2022-01-24T23:21:10.517446Z",
          "shell.execute_reply.started": "2022-01-24T23:21:09.752311Z",
          "shell.execute_reply": "2022-01-24T23:21:10.516481Z"
        },
        "trusted": true,
        "id": "0YvbD2ierZam"
      },
      "execution_count": null,
      "outputs": []
    },
    {
      "cell_type": "code",
      "source": [
        "WIDTH = 1280\n",
        "HEIGHT = 720\n",
        "\n",
        "KAGGLE_PATH_ANNOTATIONS = '/kaggle/input/tensorflow-great-barrier-reef/train.csv'\n",
        "KAGGLE_PATH_IMG_DIR = '/kaggle/input/tensorflow-great-barrier-reef/train_images/'\n",
        "LOCAL_PATH_ANNOTATIONS = 'data/train.csv'\n",
        "LOCAL_PATH_IMG_DIR = 'data/train_images/'\n",
        "COLAB_PATH_ANNOTATIONS = '/content/drive/MyDrive/data/train.csv'\n",
        "COLAB_PATH_IMG_DIR = '/content/drive/MyDrive/data/train_images/'\n",
        "\n",
        "\n",
        "KAGGLE_SAVE = '/kaggle/augmented'\n",
        "\n",
        "COLAB_SAVE = '/content/augmented'\n",
        "\n",
        "TRAIN_IMG = 'data/images/train'\n",
        "VAL_IMG = 'data/images/val'\n",
        "TEST_IMG = 'data/images/test'\n",
        "\n",
        "TRAIN_LBL = 'data/labels/train'\n",
        "VAL_LBL = 'data/labels/val'\n",
        "TEST_LBL = 'data/labels/test'\n",
        "\n",
        "KAGGLE_PREFIX = '/kaggle/working/'\n",
        "COLAB_PREFIX = '/content/drive/MyDrive/yolo/'"
      ],
      "metadata": {
        "execution": {
          "iopub.status.busy": "2022-01-24T23:21:10.530233Z",
          "iopub.execute_input": "2022-01-24T23:21:10.530482Z",
          "iopub.status.idle": "2022-01-24T23:21:10.540744Z",
          "shell.execute_reply.started": "2022-01-24T23:21:10.530454Z",
          "shell.execute_reply": "2022-01-24T23:21:10.539992Z"
        },
        "trusted": true,
        "id": "RRDZZotyrZan"
      },
      "execution_count": 1,
      "outputs": []
    },
    {
      "cell_type": "code",
      "source": [
        "transform_flip_h = A.Compose(\n",
        "    [A.HorizontalFlip(p=1)],\n",
        "    bbox_params = A.BboxParams(format='yolo', label_fields = ['category_ids'])\n",
        ")\n",
        "transform_flip_v = A.Compose(\n",
        "    [A.VerticalFlip(p=1)],\n",
        "    bbox_params = A.BboxParams(format='yolo', label_fields = ['category_ids'])\n",
        ")\n",
        "transform_colors = A.Compose(\n",
        "    [A.RandomBrightnessContrast(p=0.5),\n",
        "    A.RGBShift(r_shift_limit=30, g_shift_limit=30, b_shift_limit=30, p=0.7)],\n",
        "    bbox_params = A.BboxParams(format='yolo', label_fields = ['category_ids'])\n",
        ")\n",
        "\n",
        "transformations = [transform_flip_v, transform_flip_h, transform_colors]"
      ],
      "metadata": {
        "execution": {
          "iopub.status.busy": "2022-01-24T23:21:10.541892Z",
          "iopub.execute_input": "2022-01-24T23:21:10.542094Z",
          "iopub.status.idle": "2022-01-24T23:21:10.55735Z",
          "shell.execute_reply.started": "2022-01-24T23:21:10.542069Z",
          "shell.execute_reply": "2022-01-24T23:21:10.556587Z"
        },
        "trusted": true,
        "id": "6P2G59gArZap"
      },
      "execution_count": null,
      "outputs": []
    },
    {
      "cell_type": "code",
      "source": [
        "def create_augmented_data(annotations_file, img_dir, save_path, transformations=transformations):\n",
        "    img_labels = pd.read_csv(annotations_file)\n",
        "    annotated = img_labels[img_labels['annotations'] != '[]']\n",
        "    bboxes = {'id':[], 'bboxes':[]}\n",
        "    i = 0\n",
        "    for idx in tqdm(range(len(annotated))):\n",
        "        image = cv2.imread(os.path.join(img_dir, 'video_{}'.format(annotated.iloc[idx][0]),'{}.jpg'.format(annotated.iloc[idx][2])))\n",
        "        image = cv2.cvtColor(image, cv2.COLOR_BGR2RGB)\n",
        "        cv2.imwrite(os.path.join(save_path, 'images/im{}.jpg'.format(i)), cv2.cvtColor(image, cv2.COLOR_RGB2BGR))\n",
        "        labels = annotated.iloc[idx][-1]\n",
        "        labels = ast.literal_eval(labels)\n",
        "        coords = []\n",
        "        for parsed_label in labels:\n",
        "            x, y = parsed_label['x'], parsed_label['y']\n",
        "            w, h = parsed_label['width'], parsed_label['height']\n",
        "            cx, cy = min((0.5*w + x)/WIDTH, 1), min((0.5*h + y)/HEIGHT, 1)\n",
        "            nw, nh = min(w/WIDTH, 1), min(h/HEIGHT, 1)\n",
        "            coords.append([cx, cy, nw, nh])\n",
        "        labels = [0 for _ in range(len(coords))]\n",
        "        bboxes['id'].append(i)\n",
        "        bboxes['bboxes'].append(coords)\n",
        "        i += 1\n",
        "            \n",
        "        try:\n",
        "            for transform in transformations:\n",
        "                transformed = transform(image=image, bboxes=coords, category_ids=labels)\n",
        "                img = transformed['image']\n",
        "                boxes = transformed['bboxes']\n",
        "                cv2.imwrite(os.path.join(save_path, 'images/im{}.jpg'.format(i)), cv2.cvtColor(img, cv2.COLOR_RGB2BGR))\n",
        "                bboxes['id'].append(i)\n",
        "                bboxes['bboxes'].append(boxes)\n",
        "                i += 1\n",
        "        except:\n",
        "            print(os.path.join(img_dir, 'video_{}'.format(annotated.iloc[idx][0]),'{}.jpg'.format(annotated.iloc[idx][2])))\n",
        "    csv = pd.DataFrame(data=bboxes)\n",
        "    csv.to_csv(os.path.join(save_path, 'data.csv'))\n",
        "    \n",
        "    "
      ],
      "metadata": {
        "execution": {
          "iopub.status.busy": "2022-01-24T23:21:10.558651Z",
          "iopub.execute_input": "2022-01-24T23:21:10.55889Z",
          "iopub.status.idle": "2022-01-24T23:21:10.576173Z",
          "shell.execute_reply.started": "2022-01-24T23:21:10.558852Z",
          "shell.execute_reply": "2022-01-24T23:21:10.575542Z"
        },
        "trusted": true,
        "id": "2_v2gv_hrZap"
      },
      "execution_count": null,
      "outputs": []
    },
    {
      "cell_type": "code",
      "source": [
        "create_augmented_data(COLAB_PATH_ANNOTATIONS, COLAB_PATH_IMG_DIR, COLAB_SAVE)"
      ],
      "metadata": {
        "execution": {
          "iopub.status.busy": "2022-01-24T23:21:10.577425Z",
          "iopub.execute_input": "2022-01-24T23:21:10.578091Z",
          "iopub.status.idle": "2022-01-24T23:32:22.231118Z",
          "shell.execute_reply.started": "2022-01-24T23:21:10.578057Z",
          "shell.execute_reply": "2022-01-24T23:32:22.230074Z"
        },
        "trusted": true,
        "id": "C7x2tayUrZar"
      },
      "execution_count": null,
      "outputs": []
    },
    {
      "cell_type": "markdown",
      "source": [
        "Dataset preparation - yolo"
      ],
      "metadata": {
        "id": "DY8Bq5sDrZar"
      }
    },
    {
      "cell_type": "code",
      "source": [
        "class StarfishDataset(Dataset):\n",
        "    def __init__(self,\n",
        "                 annotations_file='/content/augmented/data.csv',\n",
        "                 img_dir='/content/augmented/images'\n",
        "                 ):\n",
        "        self.img_labels = pd.read_csv(annotations_file)\n",
        "        self.annotated = self.img_labels[self.img_labels['bboxes'] != '[]']  # get only annotated frames\n",
        "        self.img_dir = img_dir\n",
        "\n",
        "    def __len__(self):\n",
        "        return len(self.annotated)\n",
        "\n",
        "    def __getitem__(self, idx):\n",
        "        image = os.path.join(self.img_dir, 'im{}.jpg'.format(self.annotated.iloc[idx][0]))\n",
        "        coords = self.annotated.iloc[idx][-1]\n",
        "        coords = np.array(ast.literal_eval(coords))\n",
        "        labels = np.array([0 for _ in range(len(coords))])\n",
        "        labels = np.expand_dims(labels, axis=0)\n",
        "        labels = np.concatenate((labels.T, coords), axis=1)\n",
        "        boxes = np.array(labels)\n",
        "        return image, boxes"
      ],
      "metadata": {
        "execution": {
          "iopub.status.busy": "2022-01-24T23:34:01.817564Z",
          "iopub.status.idle": "2022-01-24T23:34:01.818036Z",
          "shell.execute_reply.started": "2022-01-24T23:34:01.817871Z",
          "shell.execute_reply": "2022-01-24T23:34:01.817889Z"
        },
        "trusted": true,
        "id": "QSTPEMk3rZas"
      },
      "execution_count": null,
      "outputs": []
    },
    {
      "cell_type": "code",
      "source": [
        "dataset = StarfishDataset()\n",
        "print(len(dataset))"
      ],
      "metadata": {
        "execution": {
          "iopub.status.busy": "2022-01-24T23:32:22.244769Z",
          "iopub.execute_input": "2022-01-24T23:32:22.245511Z",
          "iopub.status.idle": "2022-01-24T23:32:22.563918Z",
          "shell.execute_reply.started": "2022-01-24T23:32:22.24547Z",
          "shell.execute_reply": "2022-01-24T23:32:22.56304Z"
        },
        "trusted": true,
        "id": "mU50dP9srZat"
      },
      "execution_count": null,
      "outputs": []
    },
    {
      "cell_type": "code",
      "source": [
        "train_size = 1500\n",
        "val_size = 10000\n",
        "test_size = len(dataset) - train_size - val_size\n",
        "\n",
        "train_dataset, val_dataset, test_dataset = torch.utils.data.random_split(dataset, (train_size, val_size, test_size))\n",
        "\n",
        "print('Train dataset: {} instances, validation dataset: {}, test dataset: {}'.format(len(train_dataset), len(val_dataset), len(test_dataset)))"
      ],
      "metadata": {
        "execution": {
          "iopub.status.busy": "2022-01-24T23:32:22.566695Z",
          "iopub.execute_input": "2022-01-24T23:32:22.566962Z",
          "iopub.status.idle": "2022-01-24T23:32:22.599882Z",
          "shell.execute_reply.started": "2022-01-24T23:32:22.566915Z",
          "shell.execute_reply": "2022-01-24T23:32:22.599047Z"
        },
        "trusted": true,
        "id": "qLyP4KKhrZat"
      },
      "execution_count": null,
      "outputs": []
    },
    {
      "cell_type": "code",
      "source": [
        "def prepare_dataset(dataset, path_img, path_lbl):\n",
        "    i = 0\n",
        "    for (image, label) in dataset:\n",
        "        image = cv2.imread(image)\n",
        "        file_image = path_img + '/im' + str(i) + '.jpg'\n",
        "        file_label = path_lbl + '/im' + str(i) + '.txt'\n",
        "        cv2.imwrite(file_image, image)\n",
        "        np.savetxt(file_label, label, fmt='%i %.4f %.4f %.4f %.4f')\n",
        "        i += 1"
      ],
      "metadata": {
        "execution": {
          "iopub.status.busy": "2022-01-24T23:32:22.601235Z",
          "iopub.execute_input": "2022-01-24T23:32:22.601689Z",
          "iopub.status.idle": "2022-01-24T23:32:22.608692Z",
          "shell.execute_reply.started": "2022-01-24T23:32:22.601644Z",
          "shell.execute_reply": "2022-01-24T23:32:22.607621Z"
        },
        "trusted": true,
        "id": "yldy4KwvrZat"
      },
      "execution_count": null,
      "outputs": []
    },
    {
      "cell_type": "code",
      "source": [
        "prepare_dataset(train_dataset, COLAB_PREFIX+TRAIN_IMG, COLAB_PREFIX+TRAIN_LBL)"
      ],
      "metadata": {
        "execution": {
          "iopub.status.busy": "2022-01-24T23:32:22.609975Z",
          "iopub.execute_input": "2022-01-24T23:32:22.610213Z",
          "iopub.status.idle": "2022-01-24T23:34:01.808705Z",
          "shell.execute_reply.started": "2022-01-24T23:32:22.610185Z",
          "shell.execute_reply": "2022-01-24T23:34:01.807756Z"
        },
        "trusted": true,
        "id": "Fm0CT3VWrZau"
      },
      "execution_count": null,
      "outputs": []
    },
    {
      "cell_type": "code",
      "source": [
        "prepare_dataset(val_dataset, COLAB_PREFIX+VAL_IMG, COLAB_PREFIX+VAL_LBL)"
      ],
      "metadata": {
        "execution": {
          "iopub.status.busy": "2022-01-24T23:34:01.809571Z",
          "iopub.status.idle": "2022-01-24T23:34:01.810403Z",
          "shell.execute_reply.started": "2022-01-24T23:34:01.810189Z",
          "shell.execute_reply": "2022-01-24T23:34:01.81021Z"
        },
        "trusted": true,
        "id": "_kWn3pXnrZau"
      },
      "execution_count": null,
      "outputs": []
    },
    {
      "cell_type": "code",
      "source": [
        "prepare_dataset(test_dataset, COLAB_PREFIX+TEST_IMG, COLAB_PREFIX+TEST_LBL)"
      ],
      "metadata": {
        "execution": {
          "iopub.status.busy": "2022-01-24T23:34:01.811208Z",
          "iopub.status.idle": "2022-01-24T23:34:01.811843Z",
          "shell.execute_reply.started": "2022-01-24T23:34:01.81164Z",
          "shell.execute_reply": "2022-01-24T23:34:01.811661Z"
        },
        "trusted": true,
        "id": "LQIgs1VzrZau"
      },
      "execution_count": null,
      "outputs": []
    },
    {
      "cell_type": "code",
      "source": [
        "config = {\n",
        "'path': '../data',\n",
        "'train': 'images/train',\n",
        "'val': 'images/val',\n",
        "'test': 'images/test',\n",
        "'nc': 1,\n",
        "'names': ['starfish']\n",
        "}"
      ],
      "metadata": {
        "execution": {
          "iopub.status.busy": "2022-01-24T23:34:01.812891Z",
          "iopub.status.idle": "2022-01-24T23:34:01.813571Z",
          "shell.execute_reply.started": "2022-01-24T23:34:01.813394Z",
          "shell.execute_reply": "2022-01-24T23:34:01.813413Z"
        },
        "trusted": true,
        "id": "eRTJJ2_DrZav"
      },
      "execution_count": null,
      "outputs": []
    },
    {
      "cell_type": "code",
      "source": [
        "%cd /content/drive/MyDrive/yolo\n",
        "!git clone https://github.com/ultralytics/yolov5"
      ],
      "metadata": {
        "execution": {
          "iopub.status.busy": "2022-01-24T23:34:01.814345Z",
          "iopub.status.idle": "2022-01-24T23:34:01.815046Z",
          "shell.execute_reply.started": "2022-01-24T23:34:01.814855Z",
          "shell.execute_reply": "2022-01-24T23:34:01.814875Z"
        },
        "trusted": true,
        "id": "MmZlKIJ8rZav"
      },
      "execution_count": null,
      "outputs": []
    },
    {
      "cell_type": "code",
      "source": [
        "%cd \n",
        "with open(\"/content/drive/MyDrive/yolo/data_yolo.yaml\", \"w\") as file:\n",
        "    yaml.dump(config, file, default_flow_style=False)"
      ],
      "metadata": {
        "execution": {
          "iopub.status.busy": "2022-01-24T23:34:01.816401Z",
          "iopub.status.idle": "2022-01-24T23:34:01.8167Z",
          "shell.execute_reply.started": "2022-01-24T23:34:01.816544Z",
          "shell.execute_reply": "2022-01-24T23:34:01.81656Z"
        },
        "trusted": true,
        "id": "CUIgODQcrZav"
      },
      "execution_count": null,
      "outputs": []
    }
  ]
}