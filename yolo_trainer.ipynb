{
 "cells": [
  {
   "cell_type": "code",
   "execution_count": 14,
   "metadata": {
    "collapsed": true
   },
   "outputs": [
    {
     "name": "stdout",
     "output_type": "stream",
     "text": [
      "\u001B[34m\u001B[1mwandb\u001B[0m: Currently logged in as: \u001B[33map-wt\u001B[0m (use `wandb login --relogin` to force relogin)\r\n"
     ]
    }
   ],
   "source": [
    "import wandb\n",
    "!wandb login"
   ]
  },
  {
   "cell_type": "code",
   "execution_count": 16,
   "outputs": [],
   "source": [
    "import torch\n",
    "torch.cuda.empty_cache()"
   ],
   "metadata": {
    "collapsed": false,
    "pycharm": {
     "name": "#%%\n"
    }
   }
  },
  {
   "cell_type": "code",
   "execution_count": 11,
   "outputs": [
    {
     "name": "stdout",
     "output_type": "stream",
     "text": [
      "[Errno 2] No such file or directory: 'data_yolo/yolov5'\n",
      "/home/witold/Studia/Semestr-5/tensorflow-great-barrier-reef/data_yolo/yolov5\n",
      "/home/witold/Studia/Semestr-5/tensorflow-great-barrier-reef/data_yolo/yolov5\r\n"
     ]
    }
   ],
   "source": [
    "%cd data_yolo/yolov5\n",
    "!pwd"
   ],
   "metadata": {
    "collapsed": false,
    "pycharm": {
     "name": "#%%\n"
    }
   }
  },
  {
   "cell_type": "code",
   "execution_count": 15,
   "outputs": [
    {
     "name": "stdout",
     "output_type": "stream",
     "text": [
      "\u001B[34m\u001B[1mwandb\u001B[0m: Currently logged in as: \u001B[33map-wt\u001B[0m (use `wandb login --relogin` to force relogin)\r\n",
      "\u001B[34m\u001B[1mtrain: \u001B[0mweights=, cfg=yolov5s.yaml, data=../config.yaml, hyp=data/hyps/hyp.scratch.yaml, epochs=100, batch_size=8, imgsz=640, rect=False, resume=False, nosave=False, noval=False, noautoanchor=False, evolve=None, bucket=, cache=None, image_weights=False, device=, multi_scale=False, single_cls=False, optimizer=SGD, sync_bn=False, workers=8, project=great-barrier-reef, name=yolo_training, exist_ok=False, quad=False, linear_lr=False, label_smoothing=0.0, patience=100, freeze=[0], save_period=-1, local_rank=-1, entity=ap-wt, upload_dataset=False, bbox_interval=-1, artifact_alias=latest\r\n",
      "\u001B[34m\u001B[1mgithub: \u001B[0mup to date with https://github.com/ultralytics/yolov5 ✅\r\n",
      "YOLOv5 🚀 v6.0-211-g16563ac torch 1.10.1+cu113 CUDA:0 (NVIDIA GeForce GTX 960, 4042MiB)\r\n",
      "\r\n",
      "\u001B[34m\u001B[1mhyperparameters: \u001B[0mlr0=0.01, lrf=0.1, momentum=0.937, weight_decay=0.0005, warmup_epochs=3.0, warmup_momentum=0.8, warmup_bias_lr=0.1, box=0.05, cls=0.5, cls_pw=1.0, obj=1.0, obj_pw=1.0, iou_t=0.2, anchor_t=4.0, fl_gamma=0.0, hsv_h=0.015, hsv_s=0.7, hsv_v=0.4, degrees=0.0, translate=0.1, scale=0.5, shear=0.0, perspective=0.0, flipud=0.0, fliplr=0.5, mosaic=1.0, mixup=0.0, copy_paste=0.0\r\n",
      "\u001B[34m\u001B[1mTensorBoard: \u001B[0mStart with 'tensorboard --logdir great-barrier-reef', view at http://localhost:6006/\r\n",
      "\u001B[34m\u001B[1mwandb\u001B[0m: Tracking run with wandb version 0.12.9\r\n",
      "\u001B[34m\u001B[1mwandb\u001B[0m: Syncing run \u001B[33myolo_training\u001B[0m\r\n",
      "\u001B[34m\u001B[1mwandb\u001B[0m:  View project at \u001B[34m\u001B[4mhttps://wandb.ai/ap-wt/great-barrier-reef\u001B[0m\r\n",
      "\u001B[34m\u001B[1mwandb\u001B[0m:  View run at \u001B[34m\u001B[4mhttps://wandb.ai/ap-wt/great-barrier-reef/runs/330xrle0\u001B[0m\r\n",
      "\u001B[34m\u001B[1mwandb\u001B[0m: Run data is saved locally in /home/witold/Studia/Semestr-5/tensorflow-great-barrier-reef/data_yolo/yolov5/wandb/run-20220125_201952-330xrle0\r\n",
      "\u001B[34m\u001B[1mwandb\u001B[0m: Run `wandb offline` to turn off syncing.\r\n",
      "\r\n",
      "Overriding model.yaml nc=80 with nc=1\r\n",
      "\r\n",
      "                 from  n    params  module                                  arguments                     \r\n",
      "  0                -1  1      3520  models.common.Conv                      [3, 32, 6, 2, 2]              \r\n",
      "  1                -1  1     18560  models.common.Conv                      [32, 64, 3, 2]                \r\n",
      "  2                -1  1     18816  models.common.C3                        [64, 64, 1]                   \r\n",
      "  3                -1  1     73984  models.common.Conv                      [64, 128, 3, 2]               \r\n",
      "  4                -1  2    115712  models.common.C3                        [128, 128, 2]                 \r\n",
      "  5                -1  1    295424  models.common.Conv                      [128, 256, 3, 2]              \r\n",
      "  6                -1  3    625152  models.common.C3                        [256, 256, 3]                 \r\n",
      "  7                -1  1   1180672  models.common.Conv                      [256, 512, 3, 2]              \r\n",
      "  8                -1  1   1182720  models.common.C3                        [512, 512, 1]                 \r\n",
      "  9                -1  1    656896  models.common.SPPF                      [512, 512, 5]                 \r\n",
      " 10                -1  1    131584  models.common.Conv                      [512, 256, 1, 1]              \r\n",
      " 11                -1  1         0  torch.nn.modules.upsampling.Upsample    [None, 2, 'nearest']          \r\n",
      " 12           [-1, 6]  1         0  models.common.Concat                    [1]                           \r\n",
      " 13                -1  1    361984  models.common.C3                        [512, 256, 1, False]          \r\n",
      " 14                -1  1     33024  models.common.Conv                      [256, 128, 1, 1]              \r\n",
      " 15                -1  1         0  torch.nn.modules.upsampling.Upsample    [None, 2, 'nearest']          \r\n",
      " 16           [-1, 4]  1         0  models.common.Concat                    [1]                           \r\n",
      " 17                -1  1     90880  models.common.C3                        [256, 128, 1, False]          \r\n",
      " 18                -1  1    147712  models.common.Conv                      [128, 128, 3, 2]              \r\n",
      " 19          [-1, 14]  1         0  models.common.Concat                    [1]                           \r\n",
      " 20                -1  1    296448  models.common.C3                        [256, 256, 1, False]          \r\n",
      " 21                -1  1    590336  models.common.Conv                      [256, 256, 3, 2]              \r\n",
      " 22          [-1, 10]  1         0  models.common.Concat                    [1]                           \r\n",
      " 23                -1  1   1182720  models.common.C3                        [512, 512, 1, False]          \r\n",
      " 24      [17, 20, 23]  1     16182  models.yolo.Detect                      [1, [[10, 13, 16, 30, 33, 23], [30, 61, 62, 45, 59, 119], [116, 90, 156, 198, 373, 326]], [128, 256, 512]]\r\n",
      "[W NNPACK.cpp:79] Could not initialize NNPACK! Reason: Unsupported hardware.\r\n",
      "Model Summary: 270 layers, 7022326 parameters, 7022326 gradients, 15.8 GFLOPs\r\n",
      "\r\n",
      "Scaled weight_decay = 0.0005\r\n",
      "\u001B[34m\u001B[1moptimizer:\u001B[0m SGD with parameter groups 57 weight (no decay), 60 weight, 60 bias\r\n",
      "\u001B[34m\u001B[1malbumentations: \u001B[0mBlur(always_apply=False, p=0.01, blur_limit=(3, 7)), MedianBlur(always_apply=False, p=0.01, blur_limit=(3, 7)), ToGray(always_apply=False, p=0.01), CLAHE(always_apply=False, p=0.01, clip_limit=(1, 4.0), tile_grid_size=(8, 8))\r\n",
      "\u001B[34m\u001B[1mtrain: \u001B[0mScanning '../data/labels/train.cache' images and labels... 1500 found, 0 \u001B[0m\r\n",
      "\u001B[34m\u001B[1mval: \u001B[0mScanning '../data/labels/val.cache' images and labels... 10000 found, 0 mis\u001B[0m\r\n",
      "Plotting labels to great-barrier-reef/yolo_training4/labels.jpg... \r\n",
      "\r\n",
      "\u001B[34m\u001B[1mAutoAnchor: \u001B[0m4.89 anchors/target, 1.000 Best Possible Recall (BPR). Current anchors are a good fit to dataset ✅\r\n",
      "Image sizes 640 train, 640 val\r\n",
      "Using 8 dataloader workers\r\n",
      "Logging results to \u001B[1mgreat-barrier-reef/yolo_training4\u001B[0m\r\n",
      "Starting training for 100 epochs...\r\n",
      "\r\n",
      "     Epoch   gpu_mem       box       obj       cls    labels  img_size\r\n",
      "  0%|          | 0/188 [00:00<?, ?it/s]                                         \r\n",
      "Traceback (most recent call last):\r\n",
      "  File \"train.py\", line 638, in <module>\r\n",
      "    main(opt)\r\n",
      "  File \"train.py\", line 535, in main\r\n",
      "    train(opt.hyp, opt, device, callbacks)\r\n",
      "  File \"train.py\", line 329, in train\r\n",
      "    pred = model(imgs)  # forward\r\n",
      "  File \"/home/witold/Studia/Semestr-5/tensorflow-great-barrier-reef/venv/lib/python3.8/site-packages/torch/nn/modules/module.py\", line 1102, in _call_impl\r\n",
      "    return forward_call(*input, **kwargs)\r\n",
      "  File \"/home/witold/Studia/Semestr-5/tensorflow-great-barrier-reef/data_yolo/yolov5/models/yolo.py\", line 126, in forward\r\n",
      "    return self._forward_once(x, profile, visualize)  # single-scale inference, train\r\n",
      "  File \"/home/witold/Studia/Semestr-5/tensorflow-great-barrier-reef/data_yolo/yolov5/models/yolo.py\", line 149, in _forward_once\r\n",
      "    x = m(x)  # run\r\n",
      "  File \"/home/witold/Studia/Semestr-5/tensorflow-great-barrier-reef/venv/lib/python3.8/site-packages/torch/nn/modules/module.py\", line 1102, in _call_impl\r\n",
      "    return forward_call(*input, **kwargs)\r\n",
      "  File \"/home/witold/Studia/Semestr-5/tensorflow-great-barrier-reef/data_yolo/yolov5/models/common.py\", line 47, in forward\r\n",
      "    return self.act(self.bn(self.conv(x)))\r\n",
      "  File \"/home/witold/Studia/Semestr-5/tensorflow-great-barrier-reef/venv/lib/python3.8/site-packages/torch/nn/modules/module.py\", line 1102, in _call_impl\r\n",
      "    return forward_call(*input, **kwargs)\r\n",
      "  File \"/home/witold/Studia/Semestr-5/tensorflow-great-barrier-reef/venv/lib/python3.8/site-packages/torch/nn/modules/conv.py\", line 446, in forward\r\n",
      "    return self._conv_forward(input, self.weight, self.bias)\r\n",
      "  File \"/home/witold/Studia/Semestr-5/tensorflow-great-barrier-reef/venv/lib/python3.8/site-packages/torch/nn/modules/conv.py\", line 442, in _conv_forward\r\n",
      "    return F.conv2d(input, weight, bias, self.stride,\r\n",
      "RuntimeError: CUDA out of memory. Tried to allocate 50.00 MiB (GPU 0; 3.95 GiB total capacity; 110.83 MiB already allocated; 39.31 MiB free; 146.00 MiB reserved in total by PyTorch) If reserved memory is >> allocated memory try setting max_split_size_mb to avoid fragmentation.  See documentation for Memory Management and PYTORCH_CUDA_ALLOC_CONF\r\n",
      "\r\n",
      "\u001B[34m\u001B[1mwandb\u001B[0m: Waiting for W&B process to finish, PID 61881... (failed 1). Press ctrl-c to abort syncing.\r\n",
      "\u001B[34m\u001B[1mwandb\u001B[0m:                                                                                \r\n",
      "\u001B[34m\u001B[1mwandb\u001B[0m: Synced 6 W&B file(s), 0 media file(s), 0 artifact file(s) and 1 other file(s)\r\n",
      "\u001B[34m\u001B[1mwandb\u001B[0m: Synced \u001B[33myolo_training\u001B[0m: \u001B[34mhttps://wandb.ai/ap-wt/great-barrier-reef/runs/330xrle0\u001B[0m\r\n",
      "\u001B[34m\u001B[1mwandb\u001B[0m: Find logs at: ./wandb/run-20220125_201952-330xrle0/logs/debug.log\r\n",
      "\u001B[34m\u001B[1mwandb\u001B[0m: \r\n"
     ]
    }
   ],
   "source": [
    "# !ls\n",
    "!python3 train.py --img 640 --batch 8 --epochs 100 --data ../config.yaml --weights '' --cfg yolov5s.yaml --project \"great-barrier-reef\" --name \"yolo_training\" --entity \"ap-wt\""
   ],
   "metadata": {
    "collapsed": false,
    "pycharm": {
     "name": "#%%\n"
    }
   }
  }
 ],
 "metadata": {
  "kernelspec": {
   "display_name": "Python 3",
   "language": "python",
   "name": "python3"
  },
  "language_info": {
   "codemirror_mode": {
    "name": "ipython",
    "version": 2
   },
   "file_extension": ".py",
   "mimetype": "text/x-python",
   "name": "python",
   "nbconvert_exporter": "python",
   "pygments_lexer": "ipython2",
   "version": "2.7.6"
  }
 },
 "nbformat": 4,
 "nbformat_minor": 0
}